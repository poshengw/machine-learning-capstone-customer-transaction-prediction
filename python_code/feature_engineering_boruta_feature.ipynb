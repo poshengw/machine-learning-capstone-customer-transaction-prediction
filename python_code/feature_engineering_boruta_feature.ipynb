{
 "cells": [
  {
   "cell_type": "code",
   "execution_count": 8,
   "metadata": {},
   "outputs": [],
   "source": [
    "from sklearn.ensemble import RandomForestClassifier\n",
    "from boruta import BorutaPy\n",
    "import numpy as np\n",
    "import pandas as pd \n",
    "import os\n",
    "import matplotlib.pyplot as plt\n",
    "import seaborn as sns; sns.set()"
   ]
  },
  {
   "cell_type": "code",
   "execution_count": 9,
   "metadata": {},
   "outputs": [
    {
     "name": "stdout",
     "output_type": "stream",
     "text": [
      "x_train shape:  (100000, 200)\n",
      "y_train shape:  (100000, 1)\n",
      "x_test shape:  (100000, 200)\n",
      "y_test shape:  (100000, 1)\n"
     ]
    }
   ],
   "source": [
    "data = pd.read_csv(\"whole_data.csv\")\n",
    "\n",
    "x_train = pd.read_csv(\"x_train.csv\")\n",
    "y_train = pd.read_csv(\"y_train.csv\", header=None)\n",
    "x_test = pd.read_csv(\"x_test.csv\")\n",
    "y_test = pd.read_csv(\"y_test.csv\", header=None)\n",
    "\n",
    "print(\"x_train shape: \", x_train.shape)\n",
    "print(\"y_train shape: \", y_train.shape)\n",
    "print(\"x_test shape: \", x_test.shape)\n",
    "print(\"y_test shape: \", y_test.shape)"
   ]
  },
  {
   "cell_type": "markdown",
   "metadata": {},
   "source": [
    "## Boruta Feature"
   ]
  },
  {
   "cell_type": "code",
   "execution_count": 10,
   "metadata": {},
   "outputs": [
    {
     "name": "stderr",
     "output_type": "stream",
     "text": [
      "C:\\Users\\uc212037\\AppData\\Local\\Continuum\\anaconda3\\lib\\site-packages\\sklearn\\utils\\validation.py:578: DataConversionWarning: A column-vector y was passed when a 1d array was expected. Please change the shape of y to (n_samples, ), for example using ravel().\n",
      "  y = column_or_1d(y, warn=True)\n",
      "C:\\Users\\uc212037\\AppData\\Local\\Continuum\\anaconda3\\lib\\site-packages\\boruta\\boruta_py.py:380: DataConversionWarning: A column-vector y was passed when a 1d array was expected. Please change the shape of y to (n_samples,), for example using ravel().\n",
      "  self.estimator.fit(X, y)\n"
     ]
    },
    {
     "name": "stdout",
     "output_type": "stream",
     "text": [
      "Iteration: \t1 / 100\n",
      "Confirmed: \t0\n",
      "Tentative: \t200\n",
      "Rejected: \t0\n"
     ]
    },
    {
     "name": "stderr",
     "output_type": "stream",
     "text": [
      "C:\\Users\\uc212037\\AppData\\Local\\Continuum\\anaconda3\\lib\\site-packages\\boruta\\boruta_py.py:380: DataConversionWarning: A column-vector y was passed when a 1d array was expected. Please change the shape of y to (n_samples,), for example using ravel().\n",
      "  self.estimator.fit(X, y)\n"
     ]
    },
    {
     "name": "stdout",
     "output_type": "stream",
     "text": [
      "Iteration: \t2 / 100\n",
      "Confirmed: \t0\n",
      "Tentative: \t200\n",
      "Rejected: \t0\n"
     ]
    },
    {
     "name": "stderr",
     "output_type": "stream",
     "text": [
      "C:\\Users\\uc212037\\AppData\\Local\\Continuum\\anaconda3\\lib\\site-packages\\boruta\\boruta_py.py:380: DataConversionWarning: A column-vector y was passed when a 1d array was expected. Please change the shape of y to (n_samples,), for example using ravel().\n",
      "  self.estimator.fit(X, y)\n"
     ]
    },
    {
     "name": "stdout",
     "output_type": "stream",
     "text": [
      "Iteration: \t3 / 100\n",
      "Confirmed: \t0\n",
      "Tentative: \t200\n",
      "Rejected: \t0\n"
     ]
    },
    {
     "name": "stderr",
     "output_type": "stream",
     "text": [
      "C:\\Users\\uc212037\\AppData\\Local\\Continuum\\anaconda3\\lib\\site-packages\\boruta\\boruta_py.py:380: DataConversionWarning: A column-vector y was passed when a 1d array was expected. Please change the shape of y to (n_samples,), for example using ravel().\n",
      "  self.estimator.fit(X, y)\n"
     ]
    },
    {
     "name": "stdout",
     "output_type": "stream",
     "text": [
      "Iteration: \t4 / 100\n",
      "Confirmed: \t0\n",
      "Tentative: \t200\n",
      "Rejected: \t0\n"
     ]
    },
    {
     "name": "stderr",
     "output_type": "stream",
     "text": [
      "C:\\Users\\uc212037\\AppData\\Local\\Continuum\\anaconda3\\lib\\site-packages\\boruta\\boruta_py.py:380: DataConversionWarning: A column-vector y was passed when a 1d array was expected. Please change the shape of y to (n_samples,), for example using ravel().\n",
      "  self.estimator.fit(X, y)\n"
     ]
    },
    {
     "name": "stdout",
     "output_type": "stream",
     "text": [
      "Iteration: \t5 / 100\n",
      "Confirmed: \t0\n",
      "Tentative: \t200\n",
      "Rejected: \t0\n"
     ]
    },
    {
     "name": "stderr",
     "output_type": "stream",
     "text": [
      "C:\\Users\\uc212037\\AppData\\Local\\Continuum\\anaconda3\\lib\\site-packages\\boruta\\boruta_py.py:380: DataConversionWarning: A column-vector y was passed when a 1d array was expected. Please change the shape of y to (n_samples,), for example using ravel().\n",
      "  self.estimator.fit(X, y)\n"
     ]
    },
    {
     "name": "stdout",
     "output_type": "stream",
     "text": [
      "Iteration: \t6 / 100\n",
      "Confirmed: \t0\n",
      "Tentative: \t200\n",
      "Rejected: \t0\n"
     ]
    },
    {
     "name": "stderr",
     "output_type": "stream",
     "text": [
      "C:\\Users\\uc212037\\AppData\\Local\\Continuum\\anaconda3\\lib\\site-packages\\boruta\\boruta_py.py:380: DataConversionWarning: A column-vector y was passed when a 1d array was expected. Please change the shape of y to (n_samples,), for example using ravel().\n",
      "  self.estimator.fit(X, y)\n"
     ]
    },
    {
     "name": "stdout",
     "output_type": "stream",
     "text": [
      "Iteration: \t7 / 100\n",
      "Confirmed: \t0\n",
      "Tentative: \t200\n",
      "Rejected: \t0\n"
     ]
    },
    {
     "name": "stderr",
     "output_type": "stream",
     "text": [
      "C:\\Users\\uc212037\\AppData\\Local\\Continuum\\anaconda3\\lib\\site-packages\\boruta\\boruta_py.py:380: DataConversionWarning: A column-vector y was passed when a 1d array was expected. Please change the shape of y to (n_samples,), for example using ravel().\n",
      "  self.estimator.fit(X, y)\n"
     ]
    },
    {
     "name": "stdout",
     "output_type": "stream",
     "text": [
      "Iteration: \t8 / 100\n",
      "Confirmed: \t87\n",
      "Tentative: \t45\n",
      "Rejected: \t68\n"
     ]
    },
    {
     "name": "stderr",
     "output_type": "stream",
     "text": [
      "C:\\Users\\uc212037\\AppData\\Local\\Continuum\\anaconda3\\lib\\site-packages\\boruta\\boruta_py.py:380: DataConversionWarning: A column-vector y was passed when a 1d array was expected. Please change the shape of y to (n_samples,), for example using ravel().\n",
      "  self.estimator.fit(X, y)\n",
      "C:\\Users\\uc212037\\AppData\\Local\\Continuum\\anaconda3\\lib\\site-packages\\boruta\\boruta_py.py:418: RuntimeWarning: invalid value encountered in greater\n",
      "  hits = np.where(cur_imp[0] > imp_sha_max)[0]\n"
     ]
    },
    {
     "name": "stdout",
     "output_type": "stream",
     "text": [
      "Iteration: \t9 / 100\n",
      "Confirmed: \t87\n",
      "Tentative: \t45\n",
      "Rejected: \t68\n"
     ]
    },
    {
     "name": "stderr",
     "output_type": "stream",
     "text": [
      "C:\\Users\\uc212037\\AppData\\Local\\Continuum\\anaconda3\\lib\\site-packages\\boruta\\boruta_py.py:380: DataConversionWarning: A column-vector y was passed when a 1d array was expected. Please change the shape of y to (n_samples,), for example using ravel().\n",
      "  self.estimator.fit(X, y)\n",
      "C:\\Users\\uc212037\\AppData\\Local\\Continuum\\anaconda3\\lib\\site-packages\\boruta\\boruta_py.py:418: RuntimeWarning: invalid value encountered in greater\n",
      "  hits = np.where(cur_imp[0] > imp_sha_max)[0]\n"
     ]
    },
    {
     "name": "stdout",
     "output_type": "stream",
     "text": [
      "Iteration: \t10 / 100\n",
      "Confirmed: \t87\n",
      "Tentative: \t45\n",
      "Rejected: \t68\n"
     ]
    },
    {
     "name": "stderr",
     "output_type": "stream",
     "text": [
      "C:\\Users\\uc212037\\AppData\\Local\\Continuum\\anaconda3\\lib\\site-packages\\boruta\\boruta_py.py:380: DataConversionWarning: A column-vector y was passed when a 1d array was expected. Please change the shape of y to (n_samples,), for example using ravel().\n",
      "  self.estimator.fit(X, y)\n",
      "C:\\Users\\uc212037\\AppData\\Local\\Continuum\\anaconda3\\lib\\site-packages\\boruta\\boruta_py.py:418: RuntimeWarning: invalid value encountered in greater\n",
      "  hits = np.where(cur_imp[0] > imp_sha_max)[0]\n"
     ]
    },
    {
     "name": "stdout",
     "output_type": "stream",
     "text": [
      "Iteration: \t11 / 100\n",
      "Confirmed: \t87\n",
      "Tentative: \t45\n",
      "Rejected: \t68\n"
     ]
    },
    {
     "name": "stderr",
     "output_type": "stream",
     "text": [
      "C:\\Users\\uc212037\\AppData\\Local\\Continuum\\anaconda3\\lib\\site-packages\\boruta\\boruta_py.py:380: DataConversionWarning: A column-vector y was passed when a 1d array was expected. Please change the shape of y to (n_samples,), for example using ravel().\n",
      "  self.estimator.fit(X, y)\n",
      "C:\\Users\\uc212037\\AppData\\Local\\Continuum\\anaconda3\\lib\\site-packages\\boruta\\boruta_py.py:418: RuntimeWarning: invalid value encountered in greater\n",
      "  hits = np.where(cur_imp[0] > imp_sha_max)[0]\n"
     ]
    },
    {
     "name": "stdout",
     "output_type": "stream",
     "text": [
      "Iteration: \t12 / 100\n",
      "Confirmed: \t90\n",
      "Tentative: \t42\n",
      "Rejected: \t68\n"
     ]
    },
    {
     "name": "stderr",
     "output_type": "stream",
     "text": [
      "C:\\Users\\uc212037\\AppData\\Local\\Continuum\\anaconda3\\lib\\site-packages\\boruta\\boruta_py.py:380: DataConversionWarning: A column-vector y was passed when a 1d array was expected. Please change the shape of y to (n_samples,), for example using ravel().\n",
      "  self.estimator.fit(X, y)\n",
      "C:\\Users\\uc212037\\AppData\\Local\\Continuum\\anaconda3\\lib\\site-packages\\boruta\\boruta_py.py:418: RuntimeWarning: invalid value encountered in greater\n",
      "  hits = np.where(cur_imp[0] > imp_sha_max)[0]\n"
     ]
    },
    {
     "name": "stdout",
     "output_type": "stream",
     "text": [
      "Iteration: \t13 / 100\n",
      "Confirmed: \t90\n",
      "Tentative: \t42\n",
      "Rejected: \t68\n"
     ]
    },
    {
     "name": "stderr",
     "output_type": "stream",
     "text": [
      "C:\\Users\\uc212037\\AppData\\Local\\Continuum\\anaconda3\\lib\\site-packages\\boruta\\boruta_py.py:380: DataConversionWarning: A column-vector y was passed when a 1d array was expected. Please change the shape of y to (n_samples,), for example using ravel().\n",
      "  self.estimator.fit(X, y)\n",
      "C:\\Users\\uc212037\\AppData\\Local\\Continuum\\anaconda3\\lib\\site-packages\\boruta\\boruta_py.py:418: RuntimeWarning: invalid value encountered in greater\n",
      "  hits = np.where(cur_imp[0] > imp_sha_max)[0]\n"
     ]
    },
    {
     "name": "stdout",
     "output_type": "stream",
     "text": [
      "Iteration: \t14 / 100\n",
      "Confirmed: \t90\n",
      "Tentative: \t38\n",
      "Rejected: \t72\n"
     ]
    },
    {
     "name": "stderr",
     "output_type": "stream",
     "text": [
      "C:\\Users\\uc212037\\AppData\\Local\\Continuum\\anaconda3\\lib\\site-packages\\boruta\\boruta_py.py:380: DataConversionWarning: A column-vector y was passed when a 1d array was expected. Please change the shape of y to (n_samples,), for example using ravel().\n",
      "  self.estimator.fit(X, y)\n",
      "C:\\Users\\uc212037\\AppData\\Local\\Continuum\\anaconda3\\lib\\site-packages\\boruta\\boruta_py.py:418: RuntimeWarning: invalid value encountered in greater\n",
      "  hits = np.where(cur_imp[0] > imp_sha_max)[0]\n"
     ]
    },
    {
     "name": "stdout",
     "output_type": "stream",
     "text": [
      "Iteration: \t15 / 100\n",
      "Confirmed: \t90\n",
      "Tentative: \t38\n",
      "Rejected: \t72\n"
     ]
    },
    {
     "name": "stderr",
     "output_type": "stream",
     "text": [
      "C:\\Users\\uc212037\\AppData\\Local\\Continuum\\anaconda3\\lib\\site-packages\\boruta\\boruta_py.py:380: DataConversionWarning: A column-vector y was passed when a 1d array was expected. Please change the shape of y to (n_samples,), for example using ravel().\n",
      "  self.estimator.fit(X, y)\n",
      "C:\\Users\\uc212037\\AppData\\Local\\Continuum\\anaconda3\\lib\\site-packages\\boruta\\boruta_py.py:418: RuntimeWarning: invalid value encountered in greater\n",
      "  hits = np.where(cur_imp[0] > imp_sha_max)[0]\n"
     ]
    },
    {
     "name": "stdout",
     "output_type": "stream",
     "text": [
      "Iteration: \t16 / 100\n",
      "Confirmed: \t91\n",
      "Tentative: \t30\n",
      "Rejected: \t79\n"
     ]
    },
    {
     "name": "stderr",
     "output_type": "stream",
     "text": [
      "C:\\Users\\uc212037\\AppData\\Local\\Continuum\\anaconda3\\lib\\site-packages\\boruta\\boruta_py.py:380: DataConversionWarning: A column-vector y was passed when a 1d array was expected. Please change the shape of y to (n_samples,), for example using ravel().\n",
      "  self.estimator.fit(X, y)\n",
      "C:\\Users\\uc212037\\AppData\\Local\\Continuum\\anaconda3\\lib\\site-packages\\boruta\\boruta_py.py:418: RuntimeWarning: invalid value encountered in greater\n",
      "  hits = np.where(cur_imp[0] > imp_sha_max)[0]\n"
     ]
    },
    {
     "name": "stdout",
     "output_type": "stream",
     "text": [
      "Iteration: \t17 / 100\n",
      "Confirmed: \t91\n",
      "Tentative: \t30\n",
      "Rejected: \t79\n"
     ]
    },
    {
     "name": "stderr",
     "output_type": "stream",
     "text": [
      "C:\\Users\\uc212037\\AppData\\Local\\Continuum\\anaconda3\\lib\\site-packages\\boruta\\boruta_py.py:380: DataConversionWarning: A column-vector y was passed when a 1d array was expected. Please change the shape of y to (n_samples,), for example using ravel().\n",
      "  self.estimator.fit(X, y)\n",
      "C:\\Users\\uc212037\\AppData\\Local\\Continuum\\anaconda3\\lib\\site-packages\\boruta\\boruta_py.py:418: RuntimeWarning: invalid value encountered in greater\n",
      "  hits = np.where(cur_imp[0] > imp_sha_max)[0]\n"
     ]
    },
    {
     "name": "stdout",
     "output_type": "stream",
     "text": [
      "Iteration: \t18 / 100\n",
      "Confirmed: \t91\n",
      "Tentative: \t30\n",
      "Rejected: \t79\n"
     ]
    },
    {
     "name": "stderr",
     "output_type": "stream",
     "text": [
      "C:\\Users\\uc212037\\AppData\\Local\\Continuum\\anaconda3\\lib\\site-packages\\boruta\\boruta_py.py:380: DataConversionWarning: A column-vector y was passed when a 1d array was expected. Please change the shape of y to (n_samples,), for example using ravel().\n",
      "  self.estimator.fit(X, y)\n",
      "C:\\Users\\uc212037\\AppData\\Local\\Continuum\\anaconda3\\lib\\site-packages\\boruta\\boruta_py.py:418: RuntimeWarning: invalid value encountered in greater\n",
      "  hits = np.where(cur_imp[0] > imp_sha_max)[0]\n"
     ]
    },
    {
     "name": "stdout",
     "output_type": "stream",
     "text": [
      "Iteration: \t19 / 100\n",
      "Confirmed: \t91\n",
      "Tentative: \t30\n",
      "Rejected: \t79\n"
     ]
    },
    {
     "name": "stderr",
     "output_type": "stream",
     "text": [
      "C:\\Users\\uc212037\\AppData\\Local\\Continuum\\anaconda3\\lib\\site-packages\\boruta\\boruta_py.py:380: DataConversionWarning: A column-vector y was passed when a 1d array was expected. Please change the shape of y to (n_samples,), for example using ravel().\n",
      "  self.estimator.fit(X, y)\n",
      "C:\\Users\\uc212037\\AppData\\Local\\Continuum\\anaconda3\\lib\\site-packages\\boruta\\boruta_py.py:418: RuntimeWarning: invalid value encountered in greater\n",
      "  hits = np.where(cur_imp[0] > imp_sha_max)[0]\n"
     ]
    },
    {
     "name": "stdout",
     "output_type": "stream",
     "text": [
      "Iteration: \t20 / 100\n",
      "Confirmed: \t91\n",
      "Tentative: \t30\n",
      "Rejected: \t79\n"
     ]
    },
    {
     "name": "stderr",
     "output_type": "stream",
     "text": [
      "C:\\Users\\uc212037\\AppData\\Local\\Continuum\\anaconda3\\lib\\site-packages\\boruta\\boruta_py.py:380: DataConversionWarning: A column-vector y was passed when a 1d array was expected. Please change the shape of y to (n_samples,), for example using ravel().\n",
      "  self.estimator.fit(X, y)\n",
      "C:\\Users\\uc212037\\AppData\\Local\\Continuum\\anaconda3\\lib\\site-packages\\boruta\\boruta_py.py:418: RuntimeWarning: invalid value encountered in greater\n",
      "  hits = np.where(cur_imp[0] > imp_sha_max)[0]\n"
     ]
    },
    {
     "name": "stdout",
     "output_type": "stream",
     "text": [
      "Iteration: \t21 / 100\n",
      "Confirmed: \t91\n",
      "Tentative: \t30\n",
      "Rejected: \t79\n"
     ]
    },
    {
     "name": "stderr",
     "output_type": "stream",
     "text": [
      "C:\\Users\\uc212037\\AppData\\Local\\Continuum\\anaconda3\\lib\\site-packages\\boruta\\boruta_py.py:380: DataConversionWarning: A column-vector y was passed when a 1d array was expected. Please change the shape of y to (n_samples,), for example using ravel().\n",
      "  self.estimator.fit(X, y)\n",
      "C:\\Users\\uc212037\\AppData\\Local\\Continuum\\anaconda3\\lib\\site-packages\\boruta\\boruta_py.py:418: RuntimeWarning: invalid value encountered in greater\n",
      "  hits = np.where(cur_imp[0] > imp_sha_max)[0]\n"
     ]
    },
    {
     "name": "stdout",
     "output_type": "stream",
     "text": [
      "Iteration: \t22 / 100\n",
      "Confirmed: \t91\n",
      "Tentative: \t30\n",
      "Rejected: \t79\n"
     ]
    },
    {
     "name": "stderr",
     "output_type": "stream",
     "text": [
      "C:\\Users\\uc212037\\AppData\\Local\\Continuum\\anaconda3\\lib\\site-packages\\boruta\\boruta_py.py:380: DataConversionWarning: A column-vector y was passed when a 1d array was expected. Please change the shape of y to (n_samples,), for example using ravel().\n",
      "  self.estimator.fit(X, y)\n",
      "C:\\Users\\uc212037\\AppData\\Local\\Continuum\\anaconda3\\lib\\site-packages\\boruta\\boruta_py.py:418: RuntimeWarning: invalid value encountered in greater\n",
      "  hits = np.where(cur_imp[0] > imp_sha_max)[0]\n"
     ]
    },
    {
     "name": "stdout",
     "output_type": "stream",
     "text": [
      "Iteration: \t23 / 100\n",
      "Confirmed: \t91\n",
      "Tentative: \t26\n",
      "Rejected: \t83\n"
     ]
    },
    {
     "name": "stderr",
     "output_type": "stream",
     "text": [
      "C:\\Users\\uc212037\\AppData\\Local\\Continuum\\anaconda3\\lib\\site-packages\\boruta\\boruta_py.py:380: DataConversionWarning: A column-vector y was passed when a 1d array was expected. Please change the shape of y to (n_samples,), for example using ravel().\n",
      "  self.estimator.fit(X, y)\n",
      "C:\\Users\\uc212037\\AppData\\Local\\Continuum\\anaconda3\\lib\\site-packages\\boruta\\boruta_py.py:418: RuntimeWarning: invalid value encountered in greater\n",
      "  hits = np.where(cur_imp[0] > imp_sha_max)[0]\n"
     ]
    },
    {
     "name": "stdout",
     "output_type": "stream",
     "text": [
      "Iteration: \t24 / 100\n",
      "Confirmed: \t91\n",
      "Tentative: \t26\n",
      "Rejected: \t83\n"
     ]
    },
    {
     "name": "stderr",
     "output_type": "stream",
     "text": [
      "C:\\Users\\uc212037\\AppData\\Local\\Continuum\\anaconda3\\lib\\site-packages\\boruta\\boruta_py.py:380: DataConversionWarning: A column-vector y was passed when a 1d array was expected. Please change the shape of y to (n_samples,), for example using ravel().\n",
      "  self.estimator.fit(X, y)\n",
      "C:\\Users\\uc212037\\AppData\\Local\\Continuum\\anaconda3\\lib\\site-packages\\boruta\\boruta_py.py:418: RuntimeWarning: invalid value encountered in greater\n",
      "  hits = np.where(cur_imp[0] > imp_sha_max)[0]\n"
     ]
    },
    {
     "name": "stdout",
     "output_type": "stream",
     "text": [
      "Iteration: \t25 / 100\n",
      "Confirmed: \t91\n",
      "Tentative: \t26\n",
      "Rejected: \t83\n"
     ]
    },
    {
     "name": "stderr",
     "output_type": "stream",
     "text": [
      "C:\\Users\\uc212037\\AppData\\Local\\Continuum\\anaconda3\\lib\\site-packages\\boruta\\boruta_py.py:380: DataConversionWarning: A column-vector y was passed when a 1d array was expected. Please change the shape of y to (n_samples,), for example using ravel().\n",
      "  self.estimator.fit(X, y)\n",
      "C:\\Users\\uc212037\\AppData\\Local\\Continuum\\anaconda3\\lib\\site-packages\\boruta\\boruta_py.py:418: RuntimeWarning: invalid value encountered in greater\n",
      "  hits = np.where(cur_imp[0] > imp_sha_max)[0]\n"
     ]
    },
    {
     "name": "stdout",
     "output_type": "stream",
     "text": [
      "Iteration: \t26 / 100\n",
      "Confirmed: \t91\n",
      "Tentative: \t26\n",
      "Rejected: \t83\n"
     ]
    },
    {
     "name": "stderr",
     "output_type": "stream",
     "text": [
      "C:\\Users\\uc212037\\AppData\\Local\\Continuum\\anaconda3\\lib\\site-packages\\boruta\\boruta_py.py:380: DataConversionWarning: A column-vector y was passed when a 1d array was expected. Please change the shape of y to (n_samples,), for example using ravel().\n",
      "  self.estimator.fit(X, y)\n",
      "C:\\Users\\uc212037\\AppData\\Local\\Continuum\\anaconda3\\lib\\site-packages\\boruta\\boruta_py.py:418: RuntimeWarning: invalid value encountered in greater\n",
      "  hits = np.where(cur_imp[0] > imp_sha_max)[0]\n"
     ]
    },
    {
     "name": "stdout",
     "output_type": "stream",
     "text": [
      "Iteration: \t27 / 100\n",
      "Confirmed: \t91\n",
      "Tentative: \t26\n",
      "Rejected: \t83\n"
     ]
    },
    {
     "name": "stderr",
     "output_type": "stream",
     "text": [
      "C:\\Users\\uc212037\\AppData\\Local\\Continuum\\anaconda3\\lib\\site-packages\\boruta\\boruta_py.py:380: DataConversionWarning: A column-vector y was passed when a 1d array was expected. Please change the shape of y to (n_samples,), for example using ravel().\n",
      "  self.estimator.fit(X, y)\n",
      "C:\\Users\\uc212037\\AppData\\Local\\Continuum\\anaconda3\\lib\\site-packages\\boruta\\boruta_py.py:418: RuntimeWarning: invalid value encountered in greater\n",
      "  hits = np.where(cur_imp[0] > imp_sha_max)[0]\n"
     ]
    },
    {
     "name": "stdout",
     "output_type": "stream",
     "text": [
      "Iteration: \t28 / 100\n",
      "Confirmed: \t91\n",
      "Tentative: \t26\n",
      "Rejected: \t83\n"
     ]
    },
    {
     "name": "stderr",
     "output_type": "stream",
     "text": [
      "C:\\Users\\uc212037\\AppData\\Local\\Continuum\\anaconda3\\lib\\site-packages\\boruta\\boruta_py.py:380: DataConversionWarning: A column-vector y was passed when a 1d array was expected. Please change the shape of y to (n_samples,), for example using ravel().\n",
      "  self.estimator.fit(X, y)\n",
      "C:\\Users\\uc212037\\AppData\\Local\\Continuum\\anaconda3\\lib\\site-packages\\boruta\\boruta_py.py:418: RuntimeWarning: invalid value encountered in greater\n",
      "  hits = np.where(cur_imp[0] > imp_sha_max)[0]\n"
     ]
    },
    {
     "name": "stdout",
     "output_type": "stream",
     "text": [
      "Iteration: \t29 / 100\n",
      "Confirmed: \t92\n",
      "Tentative: \t25\n",
      "Rejected: \t83\n"
     ]
    },
    {
     "name": "stderr",
     "output_type": "stream",
     "text": [
      "C:\\Users\\uc212037\\AppData\\Local\\Continuum\\anaconda3\\lib\\site-packages\\boruta\\boruta_py.py:380: DataConversionWarning: A column-vector y was passed when a 1d array was expected. Please change the shape of y to (n_samples,), for example using ravel().\n",
      "  self.estimator.fit(X, y)\n",
      "C:\\Users\\uc212037\\AppData\\Local\\Continuum\\anaconda3\\lib\\site-packages\\boruta\\boruta_py.py:418: RuntimeWarning: invalid value encountered in greater\n",
      "  hits = np.where(cur_imp[0] > imp_sha_max)[0]\n"
     ]
    },
    {
     "name": "stdout",
     "output_type": "stream",
     "text": [
      "Iteration: \t30 / 100\n",
      "Confirmed: \t92\n",
      "Tentative: \t25\n",
      "Rejected: \t83\n"
     ]
    },
    {
     "name": "stderr",
     "output_type": "stream",
     "text": [
      "C:\\Users\\uc212037\\AppData\\Local\\Continuum\\anaconda3\\lib\\site-packages\\boruta\\boruta_py.py:380: DataConversionWarning: A column-vector y was passed when a 1d array was expected. Please change the shape of y to (n_samples,), for example using ravel().\n",
      "  self.estimator.fit(X, y)\n",
      "C:\\Users\\uc212037\\AppData\\Local\\Continuum\\anaconda3\\lib\\site-packages\\boruta\\boruta_py.py:418: RuntimeWarning: invalid value encountered in greater\n",
      "  hits = np.where(cur_imp[0] > imp_sha_max)[0]\n"
     ]
    },
    {
     "name": "stdout",
     "output_type": "stream",
     "text": [
      "Iteration: \t31 / 100\n",
      "Confirmed: \t92\n",
      "Tentative: \t25\n",
      "Rejected: \t83\n"
     ]
    },
    {
     "name": "stderr",
     "output_type": "stream",
     "text": [
      "C:\\Users\\uc212037\\AppData\\Local\\Continuum\\anaconda3\\lib\\site-packages\\boruta\\boruta_py.py:380: DataConversionWarning: A column-vector y was passed when a 1d array was expected. Please change the shape of y to (n_samples,), for example using ravel().\n",
      "  self.estimator.fit(X, y)\n",
      "C:\\Users\\uc212037\\AppData\\Local\\Continuum\\anaconda3\\lib\\site-packages\\boruta\\boruta_py.py:418: RuntimeWarning: invalid value encountered in greater\n",
      "  hits = np.where(cur_imp[0] > imp_sha_max)[0]\n"
     ]
    },
    {
     "name": "stdout",
     "output_type": "stream",
     "text": [
      "Iteration: \t32 / 100\n",
      "Confirmed: \t92\n",
      "Tentative: \t25\n",
      "Rejected: \t83\n"
     ]
    },
    {
     "name": "stderr",
     "output_type": "stream",
     "text": [
      "C:\\Users\\uc212037\\AppData\\Local\\Continuum\\anaconda3\\lib\\site-packages\\boruta\\boruta_py.py:380: DataConversionWarning: A column-vector y was passed when a 1d array was expected. Please change the shape of y to (n_samples,), for example using ravel().\n",
      "  self.estimator.fit(X, y)\n",
      "C:\\Users\\uc212037\\AppData\\Local\\Continuum\\anaconda3\\lib\\site-packages\\boruta\\boruta_py.py:418: RuntimeWarning: invalid value encountered in greater\n",
      "  hits = np.where(cur_imp[0] > imp_sha_max)[0]\n"
     ]
    },
    {
     "name": "stdout",
     "output_type": "stream",
     "text": [
      "Iteration: \t33 / 100\n",
      "Confirmed: \t92\n",
      "Tentative: \t25\n",
      "Rejected: \t83\n"
     ]
    },
    {
     "name": "stderr",
     "output_type": "stream",
     "text": [
      "C:\\Users\\uc212037\\AppData\\Local\\Continuum\\anaconda3\\lib\\site-packages\\boruta\\boruta_py.py:380: DataConversionWarning: A column-vector y was passed when a 1d array was expected. Please change the shape of y to (n_samples,), for example using ravel().\n",
      "  self.estimator.fit(X, y)\n",
      "C:\\Users\\uc212037\\AppData\\Local\\Continuum\\anaconda3\\lib\\site-packages\\boruta\\boruta_py.py:418: RuntimeWarning: invalid value encountered in greater\n",
      "  hits = np.where(cur_imp[0] > imp_sha_max)[0]\n"
     ]
    },
    {
     "name": "stdout",
     "output_type": "stream",
     "text": [
      "Iteration: \t34 / 100\n",
      "Confirmed: \t92\n",
      "Tentative: \t25\n",
      "Rejected: \t83\n"
     ]
    },
    {
     "name": "stderr",
     "output_type": "stream",
     "text": [
      "C:\\Users\\uc212037\\AppData\\Local\\Continuum\\anaconda3\\lib\\site-packages\\boruta\\boruta_py.py:380: DataConversionWarning: A column-vector y was passed when a 1d array was expected. Please change the shape of y to (n_samples,), for example using ravel().\n",
      "  self.estimator.fit(X, y)\n",
      "C:\\Users\\uc212037\\AppData\\Local\\Continuum\\anaconda3\\lib\\site-packages\\boruta\\boruta_py.py:418: RuntimeWarning: invalid value encountered in greater\n",
      "  hits = np.where(cur_imp[0] > imp_sha_max)[0]\n"
     ]
    },
    {
     "name": "stdout",
     "output_type": "stream",
     "text": [
      "Iteration: \t35 / 100\n",
      "Confirmed: \t92\n",
      "Tentative: \t25\n",
      "Rejected: \t83\n"
     ]
    },
    {
     "name": "stderr",
     "output_type": "stream",
     "text": [
      "C:\\Users\\uc212037\\AppData\\Local\\Continuum\\anaconda3\\lib\\site-packages\\boruta\\boruta_py.py:380: DataConversionWarning: A column-vector y was passed when a 1d array was expected. Please change the shape of y to (n_samples,), for example using ravel().\n",
      "  self.estimator.fit(X, y)\n",
      "C:\\Users\\uc212037\\AppData\\Local\\Continuum\\anaconda3\\lib\\site-packages\\boruta\\boruta_py.py:418: RuntimeWarning: invalid value encountered in greater\n",
      "  hits = np.where(cur_imp[0] > imp_sha_max)[0]\n"
     ]
    },
    {
     "name": "stdout",
     "output_type": "stream",
     "text": [
      "Iteration: \t36 / 100\n",
      "Confirmed: \t92\n",
      "Tentative: \t23\n",
      "Rejected: \t85\n"
     ]
    },
    {
     "name": "stderr",
     "output_type": "stream",
     "text": [
      "C:\\Users\\uc212037\\AppData\\Local\\Continuum\\anaconda3\\lib\\site-packages\\boruta\\boruta_py.py:380: DataConversionWarning: A column-vector y was passed when a 1d array was expected. Please change the shape of y to (n_samples,), for example using ravel().\n",
      "  self.estimator.fit(X, y)\n",
      "C:\\Users\\uc212037\\AppData\\Local\\Continuum\\anaconda3\\lib\\site-packages\\boruta\\boruta_py.py:418: RuntimeWarning: invalid value encountered in greater\n",
      "  hits = np.where(cur_imp[0] > imp_sha_max)[0]\n"
     ]
    },
    {
     "name": "stdout",
     "output_type": "stream",
     "text": [
      "Iteration: \t37 / 100\n",
      "Confirmed: \t92\n",
      "Tentative: \t23\n",
      "Rejected: \t85\n"
     ]
    },
    {
     "name": "stderr",
     "output_type": "stream",
     "text": [
      "C:\\Users\\uc212037\\AppData\\Local\\Continuum\\anaconda3\\lib\\site-packages\\boruta\\boruta_py.py:380: DataConversionWarning: A column-vector y was passed when a 1d array was expected. Please change the shape of y to (n_samples,), for example using ravel().\n",
      "  self.estimator.fit(X, y)\n",
      "C:\\Users\\uc212037\\AppData\\Local\\Continuum\\anaconda3\\lib\\site-packages\\boruta\\boruta_py.py:418: RuntimeWarning: invalid value encountered in greater\n",
      "  hits = np.where(cur_imp[0] > imp_sha_max)[0]\n"
     ]
    },
    {
     "name": "stdout",
     "output_type": "stream",
     "text": [
      "Iteration: \t38 / 100\n",
      "Confirmed: \t92\n",
      "Tentative: \t21\n",
      "Rejected: \t87\n"
     ]
    },
    {
     "name": "stderr",
     "output_type": "stream",
     "text": [
      "C:\\Users\\uc212037\\AppData\\Local\\Continuum\\anaconda3\\lib\\site-packages\\boruta\\boruta_py.py:380: DataConversionWarning: A column-vector y was passed when a 1d array was expected. Please change the shape of y to (n_samples,), for example using ravel().\n",
      "  self.estimator.fit(X, y)\n",
      "C:\\Users\\uc212037\\AppData\\Local\\Continuum\\anaconda3\\lib\\site-packages\\boruta\\boruta_py.py:418: RuntimeWarning: invalid value encountered in greater\n",
      "  hits = np.where(cur_imp[0] > imp_sha_max)[0]\n"
     ]
    },
    {
     "name": "stdout",
     "output_type": "stream",
     "text": [
      "Iteration: \t39 / 100\n",
      "Confirmed: \t92\n",
      "Tentative: \t21\n",
      "Rejected: \t87\n"
     ]
    },
    {
     "name": "stderr",
     "output_type": "stream",
     "text": [
      "C:\\Users\\uc212037\\AppData\\Local\\Continuum\\anaconda3\\lib\\site-packages\\boruta\\boruta_py.py:380: DataConversionWarning: A column-vector y was passed when a 1d array was expected. Please change the shape of y to (n_samples,), for example using ravel().\n",
      "  self.estimator.fit(X, y)\n",
      "C:\\Users\\uc212037\\AppData\\Local\\Continuum\\anaconda3\\lib\\site-packages\\boruta\\boruta_py.py:418: RuntimeWarning: invalid value encountered in greater\n",
      "  hits = np.where(cur_imp[0] > imp_sha_max)[0]\n"
     ]
    },
    {
     "name": "stdout",
     "output_type": "stream",
     "text": [
      "Iteration: \t40 / 100\n",
      "Confirmed: \t92\n",
      "Tentative: \t21\n",
      "Rejected: \t87\n"
     ]
    },
    {
     "name": "stderr",
     "output_type": "stream",
     "text": [
      "C:\\Users\\uc212037\\AppData\\Local\\Continuum\\anaconda3\\lib\\site-packages\\boruta\\boruta_py.py:380: DataConversionWarning: A column-vector y was passed when a 1d array was expected. Please change the shape of y to (n_samples,), for example using ravel().\n",
      "  self.estimator.fit(X, y)\n",
      "C:\\Users\\uc212037\\AppData\\Local\\Continuum\\anaconda3\\lib\\site-packages\\boruta\\boruta_py.py:418: RuntimeWarning: invalid value encountered in greater\n",
      "  hits = np.where(cur_imp[0] > imp_sha_max)[0]\n"
     ]
    },
    {
     "name": "stdout",
     "output_type": "stream",
     "text": [
      "Iteration: \t41 / 100\n",
      "Confirmed: \t92\n",
      "Tentative: \t21\n",
      "Rejected: \t87\n"
     ]
    },
    {
     "name": "stderr",
     "output_type": "stream",
     "text": [
      "C:\\Users\\uc212037\\AppData\\Local\\Continuum\\anaconda3\\lib\\site-packages\\boruta\\boruta_py.py:380: DataConversionWarning: A column-vector y was passed when a 1d array was expected. Please change the shape of y to (n_samples,), for example using ravel().\n",
      "  self.estimator.fit(X, y)\n",
      "C:\\Users\\uc212037\\AppData\\Local\\Continuum\\anaconda3\\lib\\site-packages\\boruta\\boruta_py.py:418: RuntimeWarning: invalid value encountered in greater\n",
      "  hits = np.where(cur_imp[0] > imp_sha_max)[0]\n"
     ]
    },
    {
     "name": "stdout",
     "output_type": "stream",
     "text": [
      "Iteration: \t42 / 100\n",
      "Confirmed: \t92\n",
      "Tentative: \t21\n",
      "Rejected: \t87\n"
     ]
    },
    {
     "name": "stderr",
     "output_type": "stream",
     "text": [
      "C:\\Users\\uc212037\\AppData\\Local\\Continuum\\anaconda3\\lib\\site-packages\\boruta\\boruta_py.py:380: DataConversionWarning: A column-vector y was passed when a 1d array was expected. Please change the shape of y to (n_samples,), for example using ravel().\n",
      "  self.estimator.fit(X, y)\n",
      "C:\\Users\\uc212037\\AppData\\Local\\Continuum\\anaconda3\\lib\\site-packages\\boruta\\boruta_py.py:418: RuntimeWarning: invalid value encountered in greater\n",
      "  hits = np.where(cur_imp[0] > imp_sha_max)[0]\n"
     ]
    },
    {
     "name": "stdout",
     "output_type": "stream",
     "text": [
      "Iteration: \t43 / 100\n",
      "Confirmed: \t92\n",
      "Tentative: \t21\n",
      "Rejected: \t87\n"
     ]
    },
    {
     "name": "stderr",
     "output_type": "stream",
     "text": [
      "C:\\Users\\uc212037\\AppData\\Local\\Continuum\\anaconda3\\lib\\site-packages\\boruta\\boruta_py.py:380: DataConversionWarning: A column-vector y was passed when a 1d array was expected. Please change the shape of y to (n_samples,), for example using ravel().\n",
      "  self.estimator.fit(X, y)\n",
      "C:\\Users\\uc212037\\AppData\\Local\\Continuum\\anaconda3\\lib\\site-packages\\boruta\\boruta_py.py:418: RuntimeWarning: invalid value encountered in greater\n",
      "  hits = np.where(cur_imp[0] > imp_sha_max)[0]\n"
     ]
    },
    {
     "name": "stdout",
     "output_type": "stream",
     "text": [
      "Iteration: \t44 / 100\n",
      "Confirmed: \t92\n",
      "Tentative: \t21\n",
      "Rejected: \t87\n"
     ]
    },
    {
     "name": "stderr",
     "output_type": "stream",
     "text": [
      "C:\\Users\\uc212037\\AppData\\Local\\Continuum\\anaconda3\\lib\\site-packages\\boruta\\boruta_py.py:380: DataConversionWarning: A column-vector y was passed when a 1d array was expected. Please change the shape of y to (n_samples,), for example using ravel().\n",
      "  self.estimator.fit(X, y)\n",
      "C:\\Users\\uc212037\\AppData\\Local\\Continuum\\anaconda3\\lib\\site-packages\\boruta\\boruta_py.py:418: RuntimeWarning: invalid value encountered in greater\n",
      "  hits = np.where(cur_imp[0] > imp_sha_max)[0]\n"
     ]
    },
    {
     "name": "stdout",
     "output_type": "stream",
     "text": [
      "Iteration: \t45 / 100\n",
      "Confirmed: \t92\n",
      "Tentative: \t21\n",
      "Rejected: \t87\n"
     ]
    },
    {
     "name": "stderr",
     "output_type": "stream",
     "text": [
      "C:\\Users\\uc212037\\AppData\\Local\\Continuum\\anaconda3\\lib\\site-packages\\boruta\\boruta_py.py:380: DataConversionWarning: A column-vector y was passed when a 1d array was expected. Please change the shape of y to (n_samples,), for example using ravel().\n",
      "  self.estimator.fit(X, y)\n",
      "C:\\Users\\uc212037\\AppData\\Local\\Continuum\\anaconda3\\lib\\site-packages\\boruta\\boruta_py.py:418: RuntimeWarning: invalid value encountered in greater\n",
      "  hits = np.where(cur_imp[0] > imp_sha_max)[0]\n"
     ]
    },
    {
     "name": "stdout",
     "output_type": "stream",
     "text": [
      "Iteration: \t46 / 100\n",
      "Confirmed: \t92\n",
      "Tentative: \t21\n",
      "Rejected: \t87\n"
     ]
    },
    {
     "name": "stderr",
     "output_type": "stream",
     "text": [
      "C:\\Users\\uc212037\\AppData\\Local\\Continuum\\anaconda3\\lib\\site-packages\\boruta\\boruta_py.py:380: DataConversionWarning: A column-vector y was passed when a 1d array was expected. Please change the shape of y to (n_samples,), for example using ravel().\n",
      "  self.estimator.fit(X, y)\n",
      "C:\\Users\\uc212037\\AppData\\Local\\Continuum\\anaconda3\\lib\\site-packages\\boruta\\boruta_py.py:418: RuntimeWarning: invalid value encountered in greater\n",
      "  hits = np.where(cur_imp[0] > imp_sha_max)[0]\n"
     ]
    },
    {
     "name": "stdout",
     "output_type": "stream",
     "text": [
      "Iteration: \t47 / 100\n",
      "Confirmed: \t92\n",
      "Tentative: \t21\n",
      "Rejected: \t87\n"
     ]
    },
    {
     "name": "stderr",
     "output_type": "stream",
     "text": [
      "C:\\Users\\uc212037\\AppData\\Local\\Continuum\\anaconda3\\lib\\site-packages\\boruta\\boruta_py.py:380: DataConversionWarning: A column-vector y was passed when a 1d array was expected. Please change the shape of y to (n_samples,), for example using ravel().\n",
      "  self.estimator.fit(X, y)\n",
      "C:\\Users\\uc212037\\AppData\\Local\\Continuum\\anaconda3\\lib\\site-packages\\boruta\\boruta_py.py:418: RuntimeWarning: invalid value encountered in greater\n",
      "  hits = np.where(cur_imp[0] > imp_sha_max)[0]\n"
     ]
    },
    {
     "name": "stdout",
     "output_type": "stream",
     "text": [
      "Iteration: \t48 / 100\n",
      "Confirmed: \t92\n",
      "Tentative: \t21\n",
      "Rejected: \t87\n"
     ]
    },
    {
     "name": "stderr",
     "output_type": "stream",
     "text": [
      "C:\\Users\\uc212037\\AppData\\Local\\Continuum\\anaconda3\\lib\\site-packages\\boruta\\boruta_py.py:380: DataConversionWarning: A column-vector y was passed when a 1d array was expected. Please change the shape of y to (n_samples,), for example using ravel().\n",
      "  self.estimator.fit(X, y)\n",
      "C:\\Users\\uc212037\\AppData\\Local\\Continuum\\anaconda3\\lib\\site-packages\\boruta\\boruta_py.py:418: RuntimeWarning: invalid value encountered in greater\n",
      "  hits = np.where(cur_imp[0] > imp_sha_max)[0]\n"
     ]
    },
    {
     "name": "stdout",
     "output_type": "stream",
     "text": [
      "Iteration: \t49 / 100\n",
      "Confirmed: \t92\n",
      "Tentative: \t21\n",
      "Rejected: \t87\n"
     ]
    },
    {
     "name": "stderr",
     "output_type": "stream",
     "text": [
      "C:\\Users\\uc212037\\AppData\\Local\\Continuum\\anaconda3\\lib\\site-packages\\boruta\\boruta_py.py:380: DataConversionWarning: A column-vector y was passed when a 1d array was expected. Please change the shape of y to (n_samples,), for example using ravel().\n",
      "  self.estimator.fit(X, y)\n",
      "C:\\Users\\uc212037\\AppData\\Local\\Continuum\\anaconda3\\lib\\site-packages\\boruta\\boruta_py.py:418: RuntimeWarning: invalid value encountered in greater\n",
      "  hits = np.where(cur_imp[0] > imp_sha_max)[0]\n"
     ]
    },
    {
     "name": "stdout",
     "output_type": "stream",
     "text": [
      "Iteration: \t50 / 100\n",
      "Confirmed: \t92\n",
      "Tentative: \t21\n",
      "Rejected: \t87\n"
     ]
    },
    {
     "name": "stderr",
     "output_type": "stream",
     "text": [
      "C:\\Users\\uc212037\\AppData\\Local\\Continuum\\anaconda3\\lib\\site-packages\\boruta\\boruta_py.py:380: DataConversionWarning: A column-vector y was passed when a 1d array was expected. Please change the shape of y to (n_samples,), for example using ravel().\n",
      "  self.estimator.fit(X, y)\n",
      "C:\\Users\\uc212037\\AppData\\Local\\Continuum\\anaconda3\\lib\\site-packages\\boruta\\boruta_py.py:418: RuntimeWarning: invalid value encountered in greater\n",
      "  hits = np.where(cur_imp[0] > imp_sha_max)[0]\n"
     ]
    },
    {
     "name": "stdout",
     "output_type": "stream",
     "text": [
      "Iteration: \t51 / 100\n",
      "Confirmed: \t92\n",
      "Tentative: \t21\n",
      "Rejected: \t87\n"
     ]
    },
    {
     "name": "stderr",
     "output_type": "stream",
     "text": [
      "C:\\Users\\uc212037\\AppData\\Local\\Continuum\\anaconda3\\lib\\site-packages\\boruta\\boruta_py.py:380: DataConversionWarning: A column-vector y was passed when a 1d array was expected. Please change the shape of y to (n_samples,), for example using ravel().\n",
      "  self.estimator.fit(X, y)\n",
      "C:\\Users\\uc212037\\AppData\\Local\\Continuum\\anaconda3\\lib\\site-packages\\boruta\\boruta_py.py:418: RuntimeWarning: invalid value encountered in greater\n",
      "  hits = np.where(cur_imp[0] > imp_sha_max)[0]\n"
     ]
    },
    {
     "name": "stdout",
     "output_type": "stream",
     "text": [
      "Iteration: \t52 / 100\n",
      "Confirmed: \t92\n",
      "Tentative: \t21\n",
      "Rejected: \t87\n"
     ]
    },
    {
     "name": "stderr",
     "output_type": "stream",
     "text": [
      "C:\\Users\\uc212037\\AppData\\Local\\Continuum\\anaconda3\\lib\\site-packages\\boruta\\boruta_py.py:380: DataConversionWarning: A column-vector y was passed when a 1d array was expected. Please change the shape of y to (n_samples,), for example using ravel().\n",
      "  self.estimator.fit(X, y)\n",
      "C:\\Users\\uc212037\\AppData\\Local\\Continuum\\anaconda3\\lib\\site-packages\\boruta\\boruta_py.py:418: RuntimeWarning: invalid value encountered in greater\n",
      "  hits = np.where(cur_imp[0] > imp_sha_max)[0]\n"
     ]
    },
    {
     "name": "stdout",
     "output_type": "stream",
     "text": [
      "Iteration: \t53 / 100\n",
      "Confirmed: \t92\n",
      "Tentative: \t21\n",
      "Rejected: \t87\n"
     ]
    },
    {
     "name": "stderr",
     "output_type": "stream",
     "text": [
      "C:\\Users\\uc212037\\AppData\\Local\\Continuum\\anaconda3\\lib\\site-packages\\boruta\\boruta_py.py:380: DataConversionWarning: A column-vector y was passed when a 1d array was expected. Please change the shape of y to (n_samples,), for example using ravel().\n",
      "  self.estimator.fit(X, y)\n",
      "C:\\Users\\uc212037\\AppData\\Local\\Continuum\\anaconda3\\lib\\site-packages\\boruta\\boruta_py.py:418: RuntimeWarning: invalid value encountered in greater\n",
      "  hits = np.where(cur_imp[0] > imp_sha_max)[0]\n"
     ]
    },
    {
     "name": "stdout",
     "output_type": "stream",
     "text": [
      "Iteration: \t54 / 100\n",
      "Confirmed: \t92\n",
      "Tentative: \t19\n",
      "Rejected: \t89\n"
     ]
    },
    {
     "name": "stderr",
     "output_type": "stream",
     "text": [
      "C:\\Users\\uc212037\\AppData\\Local\\Continuum\\anaconda3\\lib\\site-packages\\boruta\\boruta_py.py:380: DataConversionWarning: A column-vector y was passed when a 1d array was expected. Please change the shape of y to (n_samples,), for example using ravel().\n",
      "  self.estimator.fit(X, y)\n",
      "C:\\Users\\uc212037\\AppData\\Local\\Continuum\\anaconda3\\lib\\site-packages\\boruta\\boruta_py.py:418: RuntimeWarning: invalid value encountered in greater\n",
      "  hits = np.where(cur_imp[0] > imp_sha_max)[0]\n"
     ]
    },
    {
     "name": "stdout",
     "output_type": "stream",
     "text": [
      "Iteration: \t55 / 100\n",
      "Confirmed: \t92\n",
      "Tentative: \t19\n",
      "Rejected: \t89\n"
     ]
    },
    {
     "name": "stderr",
     "output_type": "stream",
     "text": [
      "C:\\Users\\uc212037\\AppData\\Local\\Continuum\\anaconda3\\lib\\site-packages\\boruta\\boruta_py.py:380: DataConversionWarning: A column-vector y was passed when a 1d array was expected. Please change the shape of y to (n_samples,), for example using ravel().\n",
      "  self.estimator.fit(X, y)\n",
      "C:\\Users\\uc212037\\AppData\\Local\\Continuum\\anaconda3\\lib\\site-packages\\boruta\\boruta_py.py:418: RuntimeWarning: invalid value encountered in greater\n",
      "  hits = np.where(cur_imp[0] > imp_sha_max)[0]\n"
     ]
    },
    {
     "name": "stdout",
     "output_type": "stream",
     "text": [
      "Iteration: \t56 / 100\n",
      "Confirmed: \t92\n",
      "Tentative: \t19\n",
      "Rejected: \t89\n"
     ]
    },
    {
     "name": "stderr",
     "output_type": "stream",
     "text": [
      "C:\\Users\\uc212037\\AppData\\Local\\Continuum\\anaconda3\\lib\\site-packages\\boruta\\boruta_py.py:380: DataConversionWarning: A column-vector y was passed when a 1d array was expected. Please change the shape of y to (n_samples,), for example using ravel().\n",
      "  self.estimator.fit(X, y)\n",
      "C:\\Users\\uc212037\\AppData\\Local\\Continuum\\anaconda3\\lib\\site-packages\\boruta\\boruta_py.py:418: RuntimeWarning: invalid value encountered in greater\n",
      "  hits = np.where(cur_imp[0] > imp_sha_max)[0]\n"
     ]
    },
    {
     "name": "stdout",
     "output_type": "stream",
     "text": [
      "Iteration: \t57 / 100\n",
      "Confirmed: \t92\n",
      "Tentative: \t19\n",
      "Rejected: \t89\n"
     ]
    },
    {
     "name": "stderr",
     "output_type": "stream",
     "text": [
      "C:\\Users\\uc212037\\AppData\\Local\\Continuum\\anaconda3\\lib\\site-packages\\boruta\\boruta_py.py:380: DataConversionWarning: A column-vector y was passed when a 1d array was expected. Please change the shape of y to (n_samples,), for example using ravel().\n",
      "  self.estimator.fit(X, y)\n",
      "C:\\Users\\uc212037\\AppData\\Local\\Continuum\\anaconda3\\lib\\site-packages\\boruta\\boruta_py.py:418: RuntimeWarning: invalid value encountered in greater\n",
      "  hits = np.where(cur_imp[0] > imp_sha_max)[0]\n"
     ]
    },
    {
     "name": "stdout",
     "output_type": "stream",
     "text": [
      "Iteration: \t58 / 100\n",
      "Confirmed: \t92\n",
      "Tentative: \t19\n",
      "Rejected: \t89\n"
     ]
    },
    {
     "name": "stderr",
     "output_type": "stream",
     "text": [
      "C:\\Users\\uc212037\\AppData\\Local\\Continuum\\anaconda3\\lib\\site-packages\\boruta\\boruta_py.py:380: DataConversionWarning: A column-vector y was passed when a 1d array was expected. Please change the shape of y to (n_samples,), for example using ravel().\n",
      "  self.estimator.fit(X, y)\n",
      "C:\\Users\\uc212037\\AppData\\Local\\Continuum\\anaconda3\\lib\\site-packages\\boruta\\boruta_py.py:418: RuntimeWarning: invalid value encountered in greater\n",
      "  hits = np.where(cur_imp[0] > imp_sha_max)[0]\n"
     ]
    },
    {
     "name": "stdout",
     "output_type": "stream",
     "text": [
      "Iteration: \t59 / 100\n",
      "Confirmed: \t92\n",
      "Tentative: \t19\n",
      "Rejected: \t89\n"
     ]
    },
    {
     "name": "stderr",
     "output_type": "stream",
     "text": [
      "C:\\Users\\uc212037\\AppData\\Local\\Continuum\\anaconda3\\lib\\site-packages\\boruta\\boruta_py.py:380: DataConversionWarning: A column-vector y was passed when a 1d array was expected. Please change the shape of y to (n_samples,), for example using ravel().\n",
      "  self.estimator.fit(X, y)\n",
      "C:\\Users\\uc212037\\AppData\\Local\\Continuum\\anaconda3\\lib\\site-packages\\boruta\\boruta_py.py:418: RuntimeWarning: invalid value encountered in greater\n",
      "  hits = np.where(cur_imp[0] > imp_sha_max)[0]\n"
     ]
    },
    {
     "name": "stdout",
     "output_type": "stream",
     "text": [
      "Iteration: \t60 / 100\n",
      "Confirmed: \t92\n",
      "Tentative: \t19\n",
      "Rejected: \t89\n"
     ]
    },
    {
     "name": "stderr",
     "output_type": "stream",
     "text": [
      "C:\\Users\\uc212037\\AppData\\Local\\Continuum\\anaconda3\\lib\\site-packages\\boruta\\boruta_py.py:380: DataConversionWarning: A column-vector y was passed when a 1d array was expected. Please change the shape of y to (n_samples,), for example using ravel().\n",
      "  self.estimator.fit(X, y)\n",
      "C:\\Users\\uc212037\\AppData\\Local\\Continuum\\anaconda3\\lib\\site-packages\\boruta\\boruta_py.py:418: RuntimeWarning: invalid value encountered in greater\n",
      "  hits = np.where(cur_imp[0] > imp_sha_max)[0]\n"
     ]
    },
    {
     "name": "stdout",
     "output_type": "stream",
     "text": [
      "Iteration: \t61 / 100\n",
      "Confirmed: \t92\n",
      "Tentative: \t19\n",
      "Rejected: \t89\n"
     ]
    },
    {
     "name": "stderr",
     "output_type": "stream",
     "text": [
      "C:\\Users\\uc212037\\AppData\\Local\\Continuum\\anaconda3\\lib\\site-packages\\boruta\\boruta_py.py:380: DataConversionWarning: A column-vector y was passed when a 1d array was expected. Please change the shape of y to (n_samples,), for example using ravel().\n",
      "  self.estimator.fit(X, y)\n",
      "C:\\Users\\uc212037\\AppData\\Local\\Continuum\\anaconda3\\lib\\site-packages\\boruta\\boruta_py.py:418: RuntimeWarning: invalid value encountered in greater\n",
      "  hits = np.where(cur_imp[0] > imp_sha_max)[0]\n"
     ]
    },
    {
     "name": "stdout",
     "output_type": "stream",
     "text": [
      "Iteration: \t62 / 100\n",
      "Confirmed: \t92\n",
      "Tentative: \t19\n",
      "Rejected: \t89\n"
     ]
    },
    {
     "name": "stderr",
     "output_type": "stream",
     "text": [
      "C:\\Users\\uc212037\\AppData\\Local\\Continuum\\anaconda3\\lib\\site-packages\\boruta\\boruta_py.py:380: DataConversionWarning: A column-vector y was passed when a 1d array was expected. Please change the shape of y to (n_samples,), for example using ravel().\n",
      "  self.estimator.fit(X, y)\n",
      "C:\\Users\\uc212037\\AppData\\Local\\Continuum\\anaconda3\\lib\\site-packages\\boruta\\boruta_py.py:418: RuntimeWarning: invalid value encountered in greater\n",
      "  hits = np.where(cur_imp[0] > imp_sha_max)[0]\n"
     ]
    },
    {
     "name": "stdout",
     "output_type": "stream",
     "text": [
      "Iteration: \t63 / 100\n",
      "Confirmed: \t92\n",
      "Tentative: \t19\n",
      "Rejected: \t89\n"
     ]
    },
    {
     "name": "stderr",
     "output_type": "stream",
     "text": [
      "C:\\Users\\uc212037\\AppData\\Local\\Continuum\\anaconda3\\lib\\site-packages\\boruta\\boruta_py.py:380: DataConversionWarning: A column-vector y was passed when a 1d array was expected. Please change the shape of y to (n_samples,), for example using ravel().\n",
      "  self.estimator.fit(X, y)\n",
      "C:\\Users\\uc212037\\AppData\\Local\\Continuum\\anaconda3\\lib\\site-packages\\boruta\\boruta_py.py:418: RuntimeWarning: invalid value encountered in greater\n",
      "  hits = np.where(cur_imp[0] > imp_sha_max)[0]\n"
     ]
    },
    {
     "name": "stdout",
     "output_type": "stream",
     "text": [
      "Iteration: \t64 / 100\n",
      "Confirmed: \t92\n",
      "Tentative: \t19\n",
      "Rejected: \t89\n"
     ]
    },
    {
     "name": "stderr",
     "output_type": "stream",
     "text": [
      "C:\\Users\\uc212037\\AppData\\Local\\Continuum\\anaconda3\\lib\\site-packages\\boruta\\boruta_py.py:380: DataConversionWarning: A column-vector y was passed when a 1d array was expected. Please change the shape of y to (n_samples,), for example using ravel().\n",
      "  self.estimator.fit(X, y)\n",
      "C:\\Users\\uc212037\\AppData\\Local\\Continuum\\anaconda3\\lib\\site-packages\\boruta\\boruta_py.py:418: RuntimeWarning: invalid value encountered in greater\n",
      "  hits = np.where(cur_imp[0] > imp_sha_max)[0]\n"
     ]
    },
    {
     "name": "stdout",
     "output_type": "stream",
     "text": [
      "Iteration: \t65 / 100\n",
      "Confirmed: \t92\n",
      "Tentative: \t19\n",
      "Rejected: \t89\n"
     ]
    },
    {
     "name": "stderr",
     "output_type": "stream",
     "text": [
      "C:\\Users\\uc212037\\AppData\\Local\\Continuum\\anaconda3\\lib\\site-packages\\boruta\\boruta_py.py:380: DataConversionWarning: A column-vector y was passed when a 1d array was expected. Please change the shape of y to (n_samples,), for example using ravel().\n",
      "  self.estimator.fit(X, y)\n",
      "C:\\Users\\uc212037\\AppData\\Local\\Continuum\\anaconda3\\lib\\site-packages\\boruta\\boruta_py.py:418: RuntimeWarning: invalid value encountered in greater\n",
      "  hits = np.where(cur_imp[0] > imp_sha_max)[0]\n"
     ]
    },
    {
     "name": "stdout",
     "output_type": "stream",
     "text": [
      "Iteration: \t66 / 100\n",
      "Confirmed: \t92\n",
      "Tentative: \t19\n",
      "Rejected: \t89\n"
     ]
    },
    {
     "name": "stderr",
     "output_type": "stream",
     "text": [
      "C:\\Users\\uc212037\\AppData\\Local\\Continuum\\anaconda3\\lib\\site-packages\\boruta\\boruta_py.py:380: DataConversionWarning: A column-vector y was passed when a 1d array was expected. Please change the shape of y to (n_samples,), for example using ravel().\n",
      "  self.estimator.fit(X, y)\n",
      "C:\\Users\\uc212037\\AppData\\Local\\Continuum\\anaconda3\\lib\\site-packages\\boruta\\boruta_py.py:418: RuntimeWarning: invalid value encountered in greater\n",
      "  hits = np.where(cur_imp[0] > imp_sha_max)[0]\n"
     ]
    },
    {
     "name": "stdout",
     "output_type": "stream",
     "text": [
      "Iteration: \t67 / 100\n",
      "Confirmed: \t92\n",
      "Tentative: \t17\n",
      "Rejected: \t91\n"
     ]
    },
    {
     "name": "stderr",
     "output_type": "stream",
     "text": [
      "C:\\Users\\uc212037\\AppData\\Local\\Continuum\\anaconda3\\lib\\site-packages\\boruta\\boruta_py.py:380: DataConversionWarning: A column-vector y was passed when a 1d array was expected. Please change the shape of y to (n_samples,), for example using ravel().\n",
      "  self.estimator.fit(X, y)\n",
      "C:\\Users\\uc212037\\AppData\\Local\\Continuum\\anaconda3\\lib\\site-packages\\boruta\\boruta_py.py:418: RuntimeWarning: invalid value encountered in greater\n",
      "  hits = np.where(cur_imp[0] > imp_sha_max)[0]\n"
     ]
    },
    {
     "name": "stdout",
     "output_type": "stream",
     "text": [
      "Iteration: \t68 / 100\n",
      "Confirmed: \t92\n",
      "Tentative: \t17\n",
      "Rejected: \t91\n"
     ]
    },
    {
     "name": "stderr",
     "output_type": "stream",
     "text": [
      "C:\\Users\\uc212037\\AppData\\Local\\Continuum\\anaconda3\\lib\\site-packages\\boruta\\boruta_py.py:380: DataConversionWarning: A column-vector y was passed when a 1d array was expected. Please change the shape of y to (n_samples,), for example using ravel().\n",
      "  self.estimator.fit(X, y)\n",
      "C:\\Users\\uc212037\\AppData\\Local\\Continuum\\anaconda3\\lib\\site-packages\\boruta\\boruta_py.py:418: RuntimeWarning: invalid value encountered in greater\n",
      "  hits = np.where(cur_imp[0] > imp_sha_max)[0]\n"
     ]
    },
    {
     "name": "stdout",
     "output_type": "stream",
     "text": [
      "Iteration: \t69 / 100\n",
      "Confirmed: \t92\n",
      "Tentative: \t17\n",
      "Rejected: \t91\n"
     ]
    },
    {
     "name": "stderr",
     "output_type": "stream",
     "text": [
      "C:\\Users\\uc212037\\AppData\\Local\\Continuum\\anaconda3\\lib\\site-packages\\boruta\\boruta_py.py:380: DataConversionWarning: A column-vector y was passed when a 1d array was expected. Please change the shape of y to (n_samples,), for example using ravel().\n",
      "  self.estimator.fit(X, y)\n",
      "C:\\Users\\uc212037\\AppData\\Local\\Continuum\\anaconda3\\lib\\site-packages\\boruta\\boruta_py.py:418: RuntimeWarning: invalid value encountered in greater\n",
      "  hits = np.where(cur_imp[0] > imp_sha_max)[0]\n"
     ]
    },
    {
     "name": "stdout",
     "output_type": "stream",
     "text": [
      "Iteration: \t70 / 100\n",
      "Confirmed: \t92\n",
      "Tentative: \t17\n",
      "Rejected: \t91\n"
     ]
    },
    {
     "name": "stderr",
     "output_type": "stream",
     "text": [
      "C:\\Users\\uc212037\\AppData\\Local\\Continuum\\anaconda3\\lib\\site-packages\\boruta\\boruta_py.py:380: DataConversionWarning: A column-vector y was passed when a 1d array was expected. Please change the shape of y to (n_samples,), for example using ravel().\n",
      "  self.estimator.fit(X, y)\n",
      "C:\\Users\\uc212037\\AppData\\Local\\Continuum\\anaconda3\\lib\\site-packages\\boruta\\boruta_py.py:418: RuntimeWarning: invalid value encountered in greater\n",
      "  hits = np.where(cur_imp[0] > imp_sha_max)[0]\n"
     ]
    },
    {
     "name": "stdout",
     "output_type": "stream",
     "text": [
      "Iteration: \t71 / 100\n",
      "Confirmed: \t92\n",
      "Tentative: \t17\n",
      "Rejected: \t91\n"
     ]
    },
    {
     "name": "stderr",
     "output_type": "stream",
     "text": [
      "C:\\Users\\uc212037\\AppData\\Local\\Continuum\\anaconda3\\lib\\site-packages\\boruta\\boruta_py.py:380: DataConversionWarning: A column-vector y was passed when a 1d array was expected. Please change the shape of y to (n_samples,), for example using ravel().\n",
      "  self.estimator.fit(X, y)\n",
      "C:\\Users\\uc212037\\AppData\\Local\\Continuum\\anaconda3\\lib\\site-packages\\boruta\\boruta_py.py:418: RuntimeWarning: invalid value encountered in greater\n",
      "  hits = np.where(cur_imp[0] > imp_sha_max)[0]\n"
     ]
    },
    {
     "name": "stdout",
     "output_type": "stream",
     "text": [
      "Iteration: \t72 / 100\n",
      "Confirmed: \t92\n",
      "Tentative: \t17\n",
      "Rejected: \t91\n"
     ]
    },
    {
     "name": "stderr",
     "output_type": "stream",
     "text": [
      "C:\\Users\\uc212037\\AppData\\Local\\Continuum\\anaconda3\\lib\\site-packages\\boruta\\boruta_py.py:380: DataConversionWarning: A column-vector y was passed when a 1d array was expected. Please change the shape of y to (n_samples,), for example using ravel().\n",
      "  self.estimator.fit(X, y)\n",
      "C:\\Users\\uc212037\\AppData\\Local\\Continuum\\anaconda3\\lib\\site-packages\\boruta\\boruta_py.py:418: RuntimeWarning: invalid value encountered in greater\n",
      "  hits = np.where(cur_imp[0] > imp_sha_max)[0]\n"
     ]
    },
    {
     "name": "stdout",
     "output_type": "stream",
     "text": [
      "Iteration: \t73 / 100\n",
      "Confirmed: \t92\n",
      "Tentative: \t17\n",
      "Rejected: \t91\n"
     ]
    },
    {
     "name": "stderr",
     "output_type": "stream",
     "text": [
      "C:\\Users\\uc212037\\AppData\\Local\\Continuum\\anaconda3\\lib\\site-packages\\boruta\\boruta_py.py:380: DataConversionWarning: A column-vector y was passed when a 1d array was expected. Please change the shape of y to (n_samples,), for example using ravel().\n",
      "  self.estimator.fit(X, y)\n",
      "C:\\Users\\uc212037\\AppData\\Local\\Continuum\\anaconda3\\lib\\site-packages\\boruta\\boruta_py.py:418: RuntimeWarning: invalid value encountered in greater\n",
      "  hits = np.where(cur_imp[0] > imp_sha_max)[0]\n"
     ]
    },
    {
     "name": "stdout",
     "output_type": "stream",
     "text": [
      "Iteration: \t74 / 100\n",
      "Confirmed: \t92\n",
      "Tentative: \t17\n",
      "Rejected: \t91\n"
     ]
    },
    {
     "name": "stderr",
     "output_type": "stream",
     "text": [
      "C:\\Users\\uc212037\\AppData\\Local\\Continuum\\anaconda3\\lib\\site-packages\\boruta\\boruta_py.py:380: DataConversionWarning: A column-vector y was passed when a 1d array was expected. Please change the shape of y to (n_samples,), for example using ravel().\n",
      "  self.estimator.fit(X, y)\n",
      "C:\\Users\\uc212037\\AppData\\Local\\Continuum\\anaconda3\\lib\\site-packages\\boruta\\boruta_py.py:418: RuntimeWarning: invalid value encountered in greater\n",
      "  hits = np.where(cur_imp[0] > imp_sha_max)[0]\n"
     ]
    },
    {
     "name": "stdout",
     "output_type": "stream",
     "text": [
      "Iteration: \t75 / 100\n",
      "Confirmed: \t92\n",
      "Tentative: \t17\n",
      "Rejected: \t91\n"
     ]
    },
    {
     "name": "stderr",
     "output_type": "stream",
     "text": [
      "C:\\Users\\uc212037\\AppData\\Local\\Continuum\\anaconda3\\lib\\site-packages\\boruta\\boruta_py.py:380: DataConversionWarning: A column-vector y was passed when a 1d array was expected. Please change the shape of y to (n_samples,), for example using ravel().\n",
      "  self.estimator.fit(X, y)\n",
      "C:\\Users\\uc212037\\AppData\\Local\\Continuum\\anaconda3\\lib\\site-packages\\boruta\\boruta_py.py:418: RuntimeWarning: invalid value encountered in greater\n",
      "  hits = np.where(cur_imp[0] > imp_sha_max)[0]\n"
     ]
    },
    {
     "name": "stdout",
     "output_type": "stream",
     "text": [
      "Iteration: \t76 / 100\n",
      "Confirmed: \t92\n",
      "Tentative: \t17\n",
      "Rejected: \t91\n"
     ]
    },
    {
     "name": "stderr",
     "output_type": "stream",
     "text": [
      "C:\\Users\\uc212037\\AppData\\Local\\Continuum\\anaconda3\\lib\\site-packages\\boruta\\boruta_py.py:380: DataConversionWarning: A column-vector y was passed when a 1d array was expected. Please change the shape of y to (n_samples,), for example using ravel().\n",
      "  self.estimator.fit(X, y)\n",
      "C:\\Users\\uc212037\\AppData\\Local\\Continuum\\anaconda3\\lib\\site-packages\\boruta\\boruta_py.py:418: RuntimeWarning: invalid value encountered in greater\n",
      "  hits = np.where(cur_imp[0] > imp_sha_max)[0]\n"
     ]
    },
    {
     "name": "stdout",
     "output_type": "stream",
     "text": [
      "Iteration: \t77 / 100\n",
      "Confirmed: \t92\n",
      "Tentative: \t17\n",
      "Rejected: \t91\n"
     ]
    },
    {
     "name": "stderr",
     "output_type": "stream",
     "text": [
      "C:\\Users\\uc212037\\AppData\\Local\\Continuum\\anaconda3\\lib\\site-packages\\boruta\\boruta_py.py:380: DataConversionWarning: A column-vector y was passed when a 1d array was expected. Please change the shape of y to (n_samples,), for example using ravel().\n",
      "  self.estimator.fit(X, y)\n",
      "C:\\Users\\uc212037\\AppData\\Local\\Continuum\\anaconda3\\lib\\site-packages\\boruta\\boruta_py.py:418: RuntimeWarning: invalid value encountered in greater\n",
      "  hits = np.where(cur_imp[0] > imp_sha_max)[0]\n"
     ]
    },
    {
     "name": "stdout",
     "output_type": "stream",
     "text": [
      "Iteration: \t78 / 100\n",
      "Confirmed: \t92\n",
      "Tentative: \t17\n",
      "Rejected: \t91\n"
     ]
    },
    {
     "name": "stderr",
     "output_type": "stream",
     "text": [
      "C:\\Users\\uc212037\\AppData\\Local\\Continuum\\anaconda3\\lib\\site-packages\\boruta\\boruta_py.py:380: DataConversionWarning: A column-vector y was passed when a 1d array was expected. Please change the shape of y to (n_samples,), for example using ravel().\n",
      "  self.estimator.fit(X, y)\n",
      "C:\\Users\\uc212037\\AppData\\Local\\Continuum\\anaconda3\\lib\\site-packages\\boruta\\boruta_py.py:418: RuntimeWarning: invalid value encountered in greater\n",
      "  hits = np.where(cur_imp[0] > imp_sha_max)[0]\n"
     ]
    },
    {
     "name": "stdout",
     "output_type": "stream",
     "text": [
      "Iteration: \t79 / 100\n",
      "Confirmed: \t92\n",
      "Tentative: \t17\n",
      "Rejected: \t91\n"
     ]
    },
    {
     "name": "stderr",
     "output_type": "stream",
     "text": [
      "C:\\Users\\uc212037\\AppData\\Local\\Continuum\\anaconda3\\lib\\site-packages\\boruta\\boruta_py.py:380: DataConversionWarning: A column-vector y was passed when a 1d array was expected. Please change the shape of y to (n_samples,), for example using ravel().\n",
      "  self.estimator.fit(X, y)\n",
      "C:\\Users\\uc212037\\AppData\\Local\\Continuum\\anaconda3\\lib\\site-packages\\boruta\\boruta_py.py:418: RuntimeWarning: invalid value encountered in greater\n",
      "  hits = np.where(cur_imp[0] > imp_sha_max)[0]\n"
     ]
    },
    {
     "name": "stdout",
     "output_type": "stream",
     "text": [
      "Iteration: \t80 / 100\n",
      "Confirmed: \t92\n",
      "Tentative: \t17\n",
      "Rejected: \t91\n"
     ]
    },
    {
     "name": "stderr",
     "output_type": "stream",
     "text": [
      "C:\\Users\\uc212037\\AppData\\Local\\Continuum\\anaconda3\\lib\\site-packages\\boruta\\boruta_py.py:380: DataConversionWarning: A column-vector y was passed when a 1d array was expected. Please change the shape of y to (n_samples,), for example using ravel().\n",
      "  self.estimator.fit(X, y)\n",
      "C:\\Users\\uc212037\\AppData\\Local\\Continuum\\anaconda3\\lib\\site-packages\\boruta\\boruta_py.py:418: RuntimeWarning: invalid value encountered in greater\n",
      "  hits = np.where(cur_imp[0] > imp_sha_max)[0]\n"
     ]
    },
    {
     "name": "stdout",
     "output_type": "stream",
     "text": [
      "Iteration: \t81 / 100\n",
      "Confirmed: \t92\n",
      "Tentative: \t17\n",
      "Rejected: \t91\n"
     ]
    },
    {
     "name": "stderr",
     "output_type": "stream",
     "text": [
      "C:\\Users\\uc212037\\AppData\\Local\\Continuum\\anaconda3\\lib\\site-packages\\boruta\\boruta_py.py:380: DataConversionWarning: A column-vector y was passed when a 1d array was expected. Please change the shape of y to (n_samples,), for example using ravel().\n",
      "  self.estimator.fit(X, y)\n",
      "C:\\Users\\uc212037\\AppData\\Local\\Continuum\\anaconda3\\lib\\site-packages\\boruta\\boruta_py.py:418: RuntimeWarning: invalid value encountered in greater\n",
      "  hits = np.where(cur_imp[0] > imp_sha_max)[0]\n"
     ]
    },
    {
     "name": "stdout",
     "output_type": "stream",
     "text": [
      "Iteration: \t82 / 100\n",
      "Confirmed: \t92\n",
      "Tentative: \t17\n",
      "Rejected: \t91\n"
     ]
    },
    {
     "name": "stderr",
     "output_type": "stream",
     "text": [
      "C:\\Users\\uc212037\\AppData\\Local\\Continuum\\anaconda3\\lib\\site-packages\\boruta\\boruta_py.py:380: DataConversionWarning: A column-vector y was passed when a 1d array was expected. Please change the shape of y to (n_samples,), for example using ravel().\n",
      "  self.estimator.fit(X, y)\n",
      "C:\\Users\\uc212037\\AppData\\Local\\Continuum\\anaconda3\\lib\\site-packages\\boruta\\boruta_py.py:418: RuntimeWarning: invalid value encountered in greater\n",
      "  hits = np.where(cur_imp[0] > imp_sha_max)[0]\n"
     ]
    },
    {
     "name": "stdout",
     "output_type": "stream",
     "text": [
      "Iteration: \t83 / 100\n",
      "Confirmed: \t92\n",
      "Tentative: \t17\n",
      "Rejected: \t91\n"
     ]
    },
    {
     "name": "stderr",
     "output_type": "stream",
     "text": [
      "C:\\Users\\uc212037\\AppData\\Local\\Continuum\\anaconda3\\lib\\site-packages\\boruta\\boruta_py.py:380: DataConversionWarning: A column-vector y was passed when a 1d array was expected. Please change the shape of y to (n_samples,), for example using ravel().\n",
      "  self.estimator.fit(X, y)\n",
      "C:\\Users\\uc212037\\AppData\\Local\\Continuum\\anaconda3\\lib\\site-packages\\boruta\\boruta_py.py:418: RuntimeWarning: invalid value encountered in greater\n",
      "  hits = np.where(cur_imp[0] > imp_sha_max)[0]\n"
     ]
    },
    {
     "name": "stdout",
     "output_type": "stream",
     "text": [
      "Iteration: \t84 / 100\n",
      "Confirmed: \t92\n",
      "Tentative: \t17\n",
      "Rejected: \t91\n"
     ]
    },
    {
     "name": "stderr",
     "output_type": "stream",
     "text": [
      "C:\\Users\\uc212037\\AppData\\Local\\Continuum\\anaconda3\\lib\\site-packages\\boruta\\boruta_py.py:380: DataConversionWarning: A column-vector y was passed when a 1d array was expected. Please change the shape of y to (n_samples,), for example using ravel().\n",
      "  self.estimator.fit(X, y)\n",
      "C:\\Users\\uc212037\\AppData\\Local\\Continuum\\anaconda3\\lib\\site-packages\\boruta\\boruta_py.py:418: RuntimeWarning: invalid value encountered in greater\n",
      "  hits = np.where(cur_imp[0] > imp_sha_max)[0]\n"
     ]
    },
    {
     "name": "stdout",
     "output_type": "stream",
     "text": [
      "Iteration: \t85 / 100\n",
      "Confirmed: \t92\n",
      "Tentative: \t17\n",
      "Rejected: \t91\n"
     ]
    },
    {
     "name": "stderr",
     "output_type": "stream",
     "text": [
      "C:\\Users\\uc212037\\AppData\\Local\\Continuum\\anaconda3\\lib\\site-packages\\boruta\\boruta_py.py:380: DataConversionWarning: A column-vector y was passed when a 1d array was expected. Please change the shape of y to (n_samples,), for example using ravel().\n",
      "  self.estimator.fit(X, y)\n",
      "C:\\Users\\uc212037\\AppData\\Local\\Continuum\\anaconda3\\lib\\site-packages\\boruta\\boruta_py.py:418: RuntimeWarning: invalid value encountered in greater\n",
      "  hits = np.where(cur_imp[0] > imp_sha_max)[0]\n"
     ]
    },
    {
     "name": "stdout",
     "output_type": "stream",
     "text": [
      "Iteration: \t86 / 100\n",
      "Confirmed: \t92\n",
      "Tentative: \t17\n",
      "Rejected: \t91\n"
     ]
    },
    {
     "name": "stderr",
     "output_type": "stream",
     "text": [
      "C:\\Users\\uc212037\\AppData\\Local\\Continuum\\anaconda3\\lib\\site-packages\\boruta\\boruta_py.py:380: DataConversionWarning: A column-vector y was passed when a 1d array was expected. Please change the shape of y to (n_samples,), for example using ravel().\n",
      "  self.estimator.fit(X, y)\n",
      "C:\\Users\\uc212037\\AppData\\Local\\Continuum\\anaconda3\\lib\\site-packages\\boruta\\boruta_py.py:418: RuntimeWarning: invalid value encountered in greater\n",
      "  hits = np.where(cur_imp[0] > imp_sha_max)[0]\n"
     ]
    },
    {
     "name": "stdout",
     "output_type": "stream",
     "text": [
      "Iteration: \t87 / 100\n",
      "Confirmed: \t92\n",
      "Tentative: \t17\n",
      "Rejected: \t91\n"
     ]
    },
    {
     "name": "stderr",
     "output_type": "stream",
     "text": [
      "C:\\Users\\uc212037\\AppData\\Local\\Continuum\\anaconda3\\lib\\site-packages\\boruta\\boruta_py.py:380: DataConversionWarning: A column-vector y was passed when a 1d array was expected. Please change the shape of y to (n_samples,), for example using ravel().\n",
      "  self.estimator.fit(X, y)\n",
      "C:\\Users\\uc212037\\AppData\\Local\\Continuum\\anaconda3\\lib\\site-packages\\boruta\\boruta_py.py:418: RuntimeWarning: invalid value encountered in greater\n",
      "  hits = np.where(cur_imp[0] > imp_sha_max)[0]\n"
     ]
    },
    {
     "name": "stdout",
     "output_type": "stream",
     "text": [
      "Iteration: \t88 / 100\n",
      "Confirmed: \t92\n",
      "Tentative: \t17\n",
      "Rejected: \t91\n"
     ]
    },
    {
     "name": "stderr",
     "output_type": "stream",
     "text": [
      "C:\\Users\\uc212037\\AppData\\Local\\Continuum\\anaconda3\\lib\\site-packages\\boruta\\boruta_py.py:380: DataConversionWarning: A column-vector y was passed when a 1d array was expected. Please change the shape of y to (n_samples,), for example using ravel().\n",
      "  self.estimator.fit(X, y)\n",
      "C:\\Users\\uc212037\\AppData\\Local\\Continuum\\anaconda3\\lib\\site-packages\\boruta\\boruta_py.py:418: RuntimeWarning: invalid value encountered in greater\n",
      "  hits = np.where(cur_imp[0] > imp_sha_max)[0]\n"
     ]
    },
    {
     "name": "stdout",
     "output_type": "stream",
     "text": [
      "Iteration: \t89 / 100\n",
      "Confirmed: \t92\n",
      "Tentative: \t17\n",
      "Rejected: \t91\n"
     ]
    },
    {
     "name": "stderr",
     "output_type": "stream",
     "text": [
      "C:\\Users\\uc212037\\AppData\\Local\\Continuum\\anaconda3\\lib\\site-packages\\boruta\\boruta_py.py:380: DataConversionWarning: A column-vector y was passed when a 1d array was expected. Please change the shape of y to (n_samples,), for example using ravel().\n",
      "  self.estimator.fit(X, y)\n",
      "C:\\Users\\uc212037\\AppData\\Local\\Continuum\\anaconda3\\lib\\site-packages\\boruta\\boruta_py.py:418: RuntimeWarning: invalid value encountered in greater\n",
      "  hits = np.where(cur_imp[0] > imp_sha_max)[0]\n"
     ]
    },
    {
     "name": "stdout",
     "output_type": "stream",
     "text": [
      "Iteration: \t90 / 100\n",
      "Confirmed: \t92\n",
      "Tentative: \t17\n",
      "Rejected: \t91\n"
     ]
    },
    {
     "name": "stderr",
     "output_type": "stream",
     "text": [
      "C:\\Users\\uc212037\\AppData\\Local\\Continuum\\anaconda3\\lib\\site-packages\\boruta\\boruta_py.py:380: DataConversionWarning: A column-vector y was passed when a 1d array was expected. Please change the shape of y to (n_samples,), for example using ravel().\n",
      "  self.estimator.fit(X, y)\n",
      "C:\\Users\\uc212037\\AppData\\Local\\Continuum\\anaconda3\\lib\\site-packages\\boruta\\boruta_py.py:418: RuntimeWarning: invalid value encountered in greater\n",
      "  hits = np.where(cur_imp[0] > imp_sha_max)[0]\n"
     ]
    },
    {
     "name": "stdout",
     "output_type": "stream",
     "text": [
      "Iteration: \t91 / 100\n",
      "Confirmed: \t92\n",
      "Tentative: \t17\n",
      "Rejected: \t91\n"
     ]
    },
    {
     "name": "stderr",
     "output_type": "stream",
     "text": [
      "C:\\Users\\uc212037\\AppData\\Local\\Continuum\\anaconda3\\lib\\site-packages\\boruta\\boruta_py.py:380: DataConversionWarning: A column-vector y was passed when a 1d array was expected. Please change the shape of y to (n_samples,), for example using ravel().\n",
      "  self.estimator.fit(X, y)\n",
      "C:\\Users\\uc212037\\AppData\\Local\\Continuum\\anaconda3\\lib\\site-packages\\boruta\\boruta_py.py:418: RuntimeWarning: invalid value encountered in greater\n",
      "  hits = np.where(cur_imp[0] > imp_sha_max)[0]\n"
     ]
    },
    {
     "name": "stdout",
     "output_type": "stream",
     "text": [
      "Iteration: \t92 / 100\n",
      "Confirmed: \t92\n",
      "Tentative: \t17\n",
      "Rejected: \t91\n"
     ]
    },
    {
     "name": "stderr",
     "output_type": "stream",
     "text": [
      "C:\\Users\\uc212037\\AppData\\Local\\Continuum\\anaconda3\\lib\\site-packages\\boruta\\boruta_py.py:380: DataConversionWarning: A column-vector y was passed when a 1d array was expected. Please change the shape of y to (n_samples,), for example using ravel().\n",
      "  self.estimator.fit(X, y)\n",
      "C:\\Users\\uc212037\\AppData\\Local\\Continuum\\anaconda3\\lib\\site-packages\\boruta\\boruta_py.py:418: RuntimeWarning: invalid value encountered in greater\n",
      "  hits = np.where(cur_imp[0] > imp_sha_max)[0]\n"
     ]
    },
    {
     "name": "stdout",
     "output_type": "stream",
     "text": [
      "Iteration: \t93 / 100\n",
      "Confirmed: \t92\n",
      "Tentative: \t17\n",
      "Rejected: \t91\n"
     ]
    },
    {
     "name": "stderr",
     "output_type": "stream",
     "text": [
      "C:\\Users\\uc212037\\AppData\\Local\\Continuum\\anaconda3\\lib\\site-packages\\boruta\\boruta_py.py:380: DataConversionWarning: A column-vector y was passed when a 1d array was expected. Please change the shape of y to (n_samples,), for example using ravel().\n",
      "  self.estimator.fit(X, y)\n",
      "C:\\Users\\uc212037\\AppData\\Local\\Continuum\\anaconda3\\lib\\site-packages\\boruta\\boruta_py.py:418: RuntimeWarning: invalid value encountered in greater\n",
      "  hits = np.where(cur_imp[0] > imp_sha_max)[0]\n"
     ]
    },
    {
     "name": "stdout",
     "output_type": "stream",
     "text": [
      "Iteration: \t94 / 100\n",
      "Confirmed: \t92\n",
      "Tentative: \t17\n",
      "Rejected: \t91\n"
     ]
    },
    {
     "name": "stderr",
     "output_type": "stream",
     "text": [
      "C:\\Users\\uc212037\\AppData\\Local\\Continuum\\anaconda3\\lib\\site-packages\\boruta\\boruta_py.py:380: DataConversionWarning: A column-vector y was passed when a 1d array was expected. Please change the shape of y to (n_samples,), for example using ravel().\n",
      "  self.estimator.fit(X, y)\n",
      "C:\\Users\\uc212037\\AppData\\Local\\Continuum\\anaconda3\\lib\\site-packages\\boruta\\boruta_py.py:418: RuntimeWarning: invalid value encountered in greater\n",
      "  hits = np.where(cur_imp[0] > imp_sha_max)[0]\n"
     ]
    },
    {
     "name": "stdout",
     "output_type": "stream",
     "text": [
      "Iteration: \t95 / 100\n",
      "Confirmed: \t92\n",
      "Tentative: \t17\n",
      "Rejected: \t91\n"
     ]
    },
    {
     "name": "stderr",
     "output_type": "stream",
     "text": [
      "C:\\Users\\uc212037\\AppData\\Local\\Continuum\\anaconda3\\lib\\site-packages\\boruta\\boruta_py.py:380: DataConversionWarning: A column-vector y was passed when a 1d array was expected. Please change the shape of y to (n_samples,), for example using ravel().\n",
      "  self.estimator.fit(X, y)\n",
      "C:\\Users\\uc212037\\AppData\\Local\\Continuum\\anaconda3\\lib\\site-packages\\boruta\\boruta_py.py:418: RuntimeWarning: invalid value encountered in greater\n",
      "  hits = np.where(cur_imp[0] > imp_sha_max)[0]\n"
     ]
    },
    {
     "name": "stdout",
     "output_type": "stream",
     "text": [
      "Iteration: \t96 / 100\n",
      "Confirmed: \t92\n",
      "Tentative: \t17\n",
      "Rejected: \t91\n"
     ]
    },
    {
     "name": "stderr",
     "output_type": "stream",
     "text": [
      "C:\\Users\\uc212037\\AppData\\Local\\Continuum\\anaconda3\\lib\\site-packages\\boruta\\boruta_py.py:380: DataConversionWarning: A column-vector y was passed when a 1d array was expected. Please change the shape of y to (n_samples,), for example using ravel().\n",
      "  self.estimator.fit(X, y)\n",
      "C:\\Users\\uc212037\\AppData\\Local\\Continuum\\anaconda3\\lib\\site-packages\\boruta\\boruta_py.py:418: RuntimeWarning: invalid value encountered in greater\n",
      "  hits = np.where(cur_imp[0] > imp_sha_max)[0]\n"
     ]
    },
    {
     "name": "stdout",
     "output_type": "stream",
     "text": [
      "Iteration: \t97 / 100\n",
      "Confirmed: \t92\n",
      "Tentative: \t17\n",
      "Rejected: \t91\n"
     ]
    },
    {
     "name": "stderr",
     "output_type": "stream",
     "text": [
      "C:\\Users\\uc212037\\AppData\\Local\\Continuum\\anaconda3\\lib\\site-packages\\boruta\\boruta_py.py:380: DataConversionWarning: A column-vector y was passed when a 1d array was expected. Please change the shape of y to (n_samples,), for example using ravel().\n",
      "  self.estimator.fit(X, y)\n",
      "C:\\Users\\uc212037\\AppData\\Local\\Continuum\\anaconda3\\lib\\site-packages\\boruta\\boruta_py.py:418: RuntimeWarning: invalid value encountered in greater\n",
      "  hits = np.where(cur_imp[0] > imp_sha_max)[0]\n"
     ]
    },
    {
     "name": "stdout",
     "output_type": "stream",
     "text": [
      "Iteration: \t98 / 100\n",
      "Confirmed: \t92\n",
      "Tentative: \t17\n",
      "Rejected: \t91\n"
     ]
    },
    {
     "name": "stderr",
     "output_type": "stream",
     "text": [
      "C:\\Users\\uc212037\\AppData\\Local\\Continuum\\anaconda3\\lib\\site-packages\\boruta\\boruta_py.py:380: DataConversionWarning: A column-vector y was passed when a 1d array was expected. Please change the shape of y to (n_samples,), for example using ravel().\n",
      "  self.estimator.fit(X, y)\n"
     ]
    },
    {
     "name": "stdout",
     "output_type": "stream",
     "text": [
      "Iteration: \t99 / 100\n",
      "Confirmed: \t92\n",
      "Tentative: \t17\n",
      "Rejected: \t91\n",
      "\n",
      "\n",
      "BorutaPy finished running.\n",
      "\n",
      "Iteration: \t100 / 100\n",
      "Confirmed: \t92\n",
      "Tentative: \t13\n",
      "Rejected: \t91\n"
     ]
    },
    {
     "name": "stderr",
     "output_type": "stream",
     "text": [
      "C:\\Users\\uc212037\\AppData\\Local\\Continuum\\anaconda3\\lib\\site-packages\\boruta\\boruta_py.py:418: RuntimeWarning: invalid value encountered in greater\n",
      "  hits = np.where(cur_imp[0] > imp_sha_max)[0]\n"
     ]
    },
    {
     "data": {
      "text/plain": [
       "BorutaPy(alpha=0.05,\n",
       "     estimator=RandomForestClassifier(bootstrap=True, class_weight='balanced',\n",
       "            criterion='gini', max_depth=5, max_features='auto',\n",
       "            max_leaf_nodes=None, min_impurity_decrease=0.0,\n",
       "            min_impurity_split=None, min_samples_leaf=1,\n",
       "            min_samples_split=2, min_weight_fraction_leaf=0.0,\n",
       "            n_estimators=295, n_jobs=-1, oob_score=False,\n",
       "            random_state=<mtrand.RandomState object at 0x000000001A692990>,\n",
       "            verbose=0, warm_start=False),\n",
       "     max_iter=100, n_estimators='auto', perc=100,\n",
       "     random_state=<mtrand.RandomState object at 0x000000001A692990>,\n",
       "     two_step=True, verbose=2)"
      ]
     },
     "execution_count": 10,
     "metadata": {},
     "output_type": "execute_result"
    }
   ],
   "source": [
    "# define random forest classifier, with utilising all cores and\n",
    "# sampling in proportion to y labels\n",
    "rf = RandomForestClassifier(n_jobs=-1, class_weight='balanced', max_depth=5)\n",
    "\n",
    "# define Boruta feature selection method\n",
    "feat_selector = BorutaPy(rf, n_estimators='auto', verbose=2, random_state=1)\n",
    "# find all relevant features - 5 features should be selected\n",
    "\n",
    "feat_selector.fit(x_train.values, y_train.values)"
   ]
  },
  {
   "cell_type": "code",
   "execution_count": 11,
   "metadata": {},
   "outputs": [],
   "source": [
    "# check selected features - first 5 features are selected\n",
    "boruta_support = feat_selector.support_\n",
    "\n",
    "# check ranking of features\n",
    "boruta_ranking = feat_selector.ranking_\n",
    "\n",
    "# call transform() on X to filter it down to selected features\n",
    "boruta_features_train = feat_selector.transform(x_train.values)\n",
    "boruta_features_test = feat_selector.transform(x_test.values)"
   ]
  },
  {
   "cell_type": "code",
   "execution_count": 21,
   "metadata": {},
   "outputs": [],
   "source": [
    "# save the file as \"outfile_name.npy\" \n",
    "np.save('boruta_support_file', boruta_support) \n",
    "np.save('boruta_ranking_file', boruta_ranking)\n",
    "np.save('boruta_features_train_file', boruta_features_train) \n",
    "np.save('boruta_features_test_file', boruta_features_test)\n",
    "np.save('feat_selector_file', feat_selector)"
   ]
  },
  {
   "cell_type": "markdown",
   "metadata": {},
   "source": [
    "# Boruta features for benchmark model:"
   ]
  },
  {
   "cell_type": "code",
   "execution_count": 22,
   "metadata": {},
   "outputs": [],
   "source": [
    "## Load the Boruta feature to build the benchmark model:\n",
    "x_train_np = np.load('boruta_features_train_file.npy') \n",
    "x_test_np = np.load('boruta_features_test_file.npy') "
   ]
  },
  {
   "cell_type": "code",
   "execution_count": 23,
   "metadata": {},
   "outputs": [],
   "source": [
    "x_train = pd.DataFrame(x_train_np)\n",
    "x_test = pd.DataFrame(x_test_np)\n",
    "features = [column for column in x_train.columns]"
   ]
  },
  {
   "cell_type": "code",
   "execution_count": 25,
   "metadata": {},
   "outputs": [
    {
     "name": "stdout",
     "output_type": "stream",
     "text": [
      "x_train.shape (100000, 92)\n",
      "x_test.shape (100000, 92)\n",
      "y_train.shape (100000, 1)\n",
      "y_test.shape (100000, 1)\n",
      "features.len 92\n"
     ]
    }
   ],
   "source": [
    "print('x_train.shape', x_train.shape)\n",
    "print('x_test.shape', x_test.shape)\n",
    "print('y_train.shape', y_train.shape)\n",
    "print('y_test.shape', y_test.shape)\n",
    "print('features.len', len(features))"
   ]
  },
  {
   "cell_type": "code",
   "execution_count": 28,
   "metadata": {},
   "outputs": [],
   "source": [
    "from sklearn.model_selection import train_test_split\n",
    "from sklearn.model_selection import StratifiedShuffleSplit\n",
    "from sklearn.utils import shuffle\n",
    "    \n",
    "def train_test_split(data):\n",
    "    \n",
    "    whole_data = shuffle(data)\n",
    "    sss = StratifiedShuffleSplit(n_splits=1, test_size=0.5, random_state=0)\n",
    "    \n",
    "    for train_index, test_index in sss.split(whole_data, whole_data['target'].values):\n",
    "        print(\"TRAIN:\", train_index, \"TEST:\", test_index)\n",
    "        train, test = whole_data.iloc[train_index], whole_data.iloc[test_index]\n",
    "    \n",
    "    x_train = train.iloc[:,2:]\n",
    "    y_train = train['target']\n",
    "    x_test = test.iloc[:,2:]\n",
    "    y_test = test['target']\n",
    "    features = [column for column in train.columns if column not in ['ID_code', 'target']]\n",
    "    \n",
    "    print(\"x_train shape: \", x_train.shape)\n",
    "    print(\"y_train shape: \", y_train.shape)\n",
    "    print(\"x_test shape: \", x_test.shape)\n",
    "    print(\"y_test shape: \", y_test.shape)\n",
    "    print(\"features\", len(features))\n",
    "    \n",
    "    print(y_train[y_train==0].shape)\n",
    "    print(y_train[y_train==1].shape)\n",
    "    print(\"-----------------------------\")\n",
    "    print(y_test[y_test==0].shape)\n",
    "    print(y_test[y_test==1].shape)\n",
    "    \n",
    "    return x_train, y_train, x_test, y_test"
   ]
  },
  {
   "cell_type": "code",
   "execution_count": 29,
   "metadata": {},
   "outputs": [],
   "source": [
    "import time\n",
    "from sklearn.model_selection import StratifiedKFold\n",
    "import lightgbm as lgb\n",
    "\n",
    "\n",
    "def eda_modle_eva (params, x_train, y_train, x_test):\n",
    "    num_folds = 5\n",
    "    \n",
    "    folds = StratifiedKFold(n_splits=num_folds, shuffle=False, random_state=44000)\n",
    "    oof = np.zeros(len(x_train))\n",
    "    predictions = np.zeros(len(x_test))\n",
    "    feature_importance_df = pd.DataFrame()\n",
    "    \n",
    "    features = [column for column in x_train.columns if column not in ['ID_code', 'target']]\n",
    "    \n",
    "    for fold_, (trn_idx, val_idx) in enumerate(folds.split(x_train.values, y_train.values)):\n",
    "        print(\"Fold {}\".format(fold_))\n",
    "        trn_data = lgb.Dataset(x_train.iloc[trn_idx][features], label=y_train.iloc[trn_idx])\n",
    "        val_data = lgb.Dataset(x_train.iloc[val_idx][features], label=y_train.iloc[val_idx])\n",
    "        \n",
    "        num_round = 1000000\n",
    "        clf = lgb.train(params, trn_data, num_round, valid_sets = [trn_data, val_data], verbose_eval=1000, early_stopping_rounds = 3500)\n",
    "        oof[val_idx] = clf.predict(x_train.iloc[val_idx][features], num_iteration=clf.best_iteration)\n",
    "    \n",
    "        clf.save_model('{:03d}.txt'.format(fold_))\n",
    "\n",
    "        fold_importance_df = pd.DataFrame()\n",
    "        fold_importance_df[\"Feature\"] = features\n",
    "        fold_importance_df[\"importance\"] = clf.feature_importance()\n",
    "        fold_importance_df[\"fold\"] = fold_ + 1\n",
    "        feature_importance_df = pd.concat([feature_importance_df, fold_importance_df], axis=0)\n",
    "    \n",
    "        predictions += clf.predict(x_test[features], num_iteration=clf.best_iteration) / folds.n_splits\n",
    "    \n",
    "    return predictions, oof, fold_importance_df, clf"
   ]
  },
  {
   "cell_type": "code",
   "execution_count": 30,
   "metadata": {},
   "outputs": [
    {
     "name": "stdout",
     "output_type": "stream",
     "text": [
      "Fold 0\n",
      "Training until validation scores don't improve for 3500 rounds.\n",
      "[1000]\ttraining's auc: 0.952163\tvalid_1's auc: 0.86506\n",
      "[2000]\ttraining's auc: 0.976946\tvalid_1's auc: 0.873765\n",
      "[3000]\ttraining's auc: 0.98941\tvalid_1's auc: 0.874636\n",
      "[4000]\ttraining's auc: 0.995119\tvalid_1's auc: 0.874145\n",
      "[5000]\ttraining's auc: 0.997684\tvalid_1's auc: 0.873647\n",
      "[6000]\ttraining's auc: 0.998887\tvalid_1's auc: 0.87294\n",
      "Early stopping, best iteration is:\n",
      "[2924]\ttraining's auc: 0.988765\tvalid_1's auc: 0.874675\n",
      "Fold 1\n",
      "Training until validation scores don't improve for 3500 rounds.\n",
      "[1000]\ttraining's auc: 0.951761\tvalid_1's auc: 0.873264\n",
      "[2000]\ttraining's auc: 0.976336\tvalid_1's auc: 0.882397\n",
      "[3000]\ttraining's auc: 0.989498\tvalid_1's auc: 0.883272\n",
      "[4000]\ttraining's auc: 0.995473\tvalid_1's auc: 0.883411\n",
      "[5000]\ttraining's auc: 0.997997\tvalid_1's auc: 0.882529\n",
      "[6000]\ttraining's auc: 0.99913\tvalid_1's auc: 0.881909\n",
      "[7000]\ttraining's auc: 0.999633\tvalid_1's auc: 0.881246\n",
      "Early stopping, best iteration is:\n",
      "[3922]\ttraining's auc: 0.995182\tvalid_1's auc: 0.883505\n",
      "Fold 2\n",
      "Training until validation scores don't improve for 3500 rounds.\n",
      "[1000]\ttraining's auc: 0.952103\tvalid_1's auc: 0.866955\n",
      "[2000]\ttraining's auc: 0.977058\tvalid_1's auc: 0.875518\n",
      "[3000]\ttraining's auc: 0.98961\tvalid_1's auc: 0.875838\n",
      "[4000]\ttraining's auc: 0.995223\tvalid_1's auc: 0.875002\n",
      "[5000]\ttraining's auc: 0.997742\tvalid_1's auc: 0.874006\n",
      "Early stopping, best iteration is:\n",
      "[2383]\ttraining's auc: 0.983032\tvalid_1's auc: 0.876195\n",
      "Fold 3\n",
      "Training until validation scores don't improve for 3500 rounds.\n",
      "[1000]\ttraining's auc: 0.952992\tvalid_1's auc: 0.859112\n",
      "[2000]\ttraining's auc: 0.977402\tvalid_1's auc: 0.868077\n",
      "[3000]\ttraining's auc: 0.98971\tvalid_1's auc: 0.869424\n",
      "[4000]\ttraining's auc: 0.995217\tvalid_1's auc: 0.869365\n",
      "[5000]\ttraining's auc: 0.997727\tvalid_1's auc: 0.868554\n",
      "[6000]\ttraining's auc: 0.998922\tvalid_1's auc: 0.867729\n",
      "Early stopping, best iteration is:\n",
      "[3422]\ttraining's auc: 0.992614\tvalid_1's auc: 0.869617\n",
      "Fold 4\n",
      "Training until validation scores don't improve for 3500 rounds.\n",
      "[1000]\ttraining's auc: 0.952968\tvalid_1's auc: 0.862064\n",
      "[2000]\ttraining's auc: 0.977243\tvalid_1's auc: 0.871571\n",
      "[3000]\ttraining's auc: 0.989735\tvalid_1's auc: 0.872508\n",
      "[4000]\ttraining's auc: 0.995538\tvalid_1's auc: 0.872514\n",
      "[5000]\ttraining's auc: 0.997972\tvalid_1's auc: 0.871917\n",
      "[6000]\ttraining's auc: 0.999077\tvalid_1's auc: 0.871123\n",
      "Early stopping, best iteration is:\n",
      "[2743]\ttraining's auc: 0.98742\tvalid_1's auc: 0.872669\n"
     ]
    }
   ],
   "source": [
    "# ALl default values\n",
    "params = {\n",
    "    # Core Parameters\n",
    "    'objective': 'binary',\n",
    "    'boosting': 'gbdt',\n",
    "    'learning_rate': 0.01,\n",
    "    'num_leaves': 31,\n",
    "    'tree_learner': 'serial',\n",
    "    'num_threads': 0,\n",
    "    'seed': 42,\n",
    "    \n",
    "    # Learning Control Parameters\n",
    "    'max_depth': -1,\n",
    "    'min_data_in_leaf': 20,\n",
    "    'min_sum_hessian_in_leaf': 1e-3,  \n",
    "    'bagging_fraction': 1.0,\n",
    "    'bagging_freq': 0,\n",
    "    'feature_fraction': 1.0,\n",
    "    'lambda_l1': 0.0,\n",
    "    'lambda_l2': 0.0,\n",
    "    'bagging_seed': 42,\n",
    "    \n",
    "    # Others\n",
    "    'verbosity ': 1,\n",
    "    'boost_from_average': True,\n",
    "    'metric': 'auc',\n",
    "}\n",
    "\n",
    "predictions, oof, fold_importance_df, clf = eda_modle_eva(params, x_train, y_train, x_test)"
   ]
  },
  {
   "cell_type": "code",
   "execution_count": 31,
   "metadata": {},
   "outputs": [
    {
     "name": "stdout",
     "output_type": "stream",
     "text": [
      "CV score: 0.87521 \n",
      "CV score: 0.87956 \n"
     ]
    }
   ],
   "source": [
    "from sklearn.metrics import roc_auc_score\n",
    "print(\"CV score: {:<8.5f}\".format(roc_auc_score(y_train, oof)))\n",
    "print(\"CV score: {:<8.5f}\".format(roc_auc_score(y_test, predictions)))"
   ]
  }
 ],
 "metadata": {
  "kernelspec": {
   "display_name": "Python 3",
   "language": "python",
   "name": "python3"
  },
  "language_info": {
   "codemirror_mode": {
    "name": "ipython",
    "version": 3
   },
   "file_extension": ".py",
   "mimetype": "text/x-python",
   "name": "python",
   "nbconvert_exporter": "python",
   "pygments_lexer": "ipython3",
   "version": "3.6.4"
  }
 },
 "nbformat": 4,
 "nbformat_minor": 2
}

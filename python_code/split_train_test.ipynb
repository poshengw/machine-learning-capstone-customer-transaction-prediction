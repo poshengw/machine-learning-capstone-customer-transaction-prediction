{
 "cells": [
  {
   "cell_type": "code",
   "execution_count": 3,
   "metadata": {},
   "outputs": [],
   "source": [
    "def split_train_test_data(data):\n",
    "    from sklearn.model_selection import train_test_split\n",
    "    from sklearn.model_selection import StratifiedShuffleSplit\n",
    "    from sklearn.utils import shuffle\n",
    "\n",
    "    whole_data = shuffle(data)\n",
    "    sss = StratifiedShuffleSplit(n_splits=1, test_size=0.5, random_state=0)\n",
    "    \n",
    "    for train_index, test_index in sss.split(whole_data, whole_data['target'].values):\n",
    "        print(\"TRAIN:\", train_index, \"TEST:\", test_index)\n",
    "        train, test = whole_data.iloc[train_index], whole_data.iloc[test_index]\n",
    "        print(train.shape)\n",
    "        \n",
    "    x_train = train.iloc[:,2:]\n",
    "    y_train = train['target']\n",
    "    x_test = test.iloc[:,2:]\n",
    "    y_test = test['target']\n",
    "    features = [column for column in train.columns if column not in ['ID_code', 'target']]\n",
    "\n",
    "    print(\"x_train shape: \", x_train.shape)\n",
    "    print(\"y_train shape: \", y_train.shape)\n",
    "    print(\"x_test shape: \", x_test.shape)\n",
    "    print(\"features\", len(features))  \n",
    "    \n",
    "    return {'x_train' : x_train,\n",
    "            'y_train' : y_train,\n",
    "            'x_test' : x_test,\n",
    "            'y_test' : y_test}"
   ]
  },
  {
   "cell_type": "code",
   "execution_count": null,
   "metadata": {},
   "outputs": [],
   "source": []
  }
 ],
 "metadata": {
  "kernelspec": {
   "display_name": "Python 3",
   "language": "python",
   "name": "python3"
  },
  "language_info": {
   "codemirror_mode": {
    "name": "ipython",
    "version": 3
   },
   "file_extension": ".py",
   "mimetype": "text/x-python",
   "name": "python",
   "nbconvert_exporter": "python",
   "pygments_lexer": "ipython3",
   "version": "3.6.4"
  }
 },
 "nbformat": 4,
 "nbformat_minor": 2
}

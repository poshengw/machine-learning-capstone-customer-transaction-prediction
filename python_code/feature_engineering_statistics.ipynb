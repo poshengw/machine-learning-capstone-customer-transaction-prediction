{
 "cells": [
  {
   "cell_type": "code",
   "execution_count": 1,
   "metadata": {},
   "outputs": [],
   "source": [
    "import numpy as np\n",
    "import pandas as pd \n",
    "import os\n",
    "import matplotlib.pyplot as plt\n",
    "import seaborn as sns; sns.set()"
   ]
  },
  {
   "cell_type": "code",
   "execution_count": 2,
   "metadata": {},
   "outputs": [
    {
     "name": "stdout",
     "output_type": "stream",
     "text": [
      "x_train shape:  (100000, 200)\n",
      "y_train shape:  (100000, 1)\n",
      "x_test shape:  (100000, 200)\n",
      "y_test shape:  (100000, 1)\n"
     ]
    }
   ],
   "source": [
    "data = pd.read_csv(\"whole_data.csv\")\n",
    "\n",
    "x_train = pd.read_csv(\"x_train.csv\")\n",
    "y_train = pd.read_csv(\"y_train.csv\", header=None)\n",
    "x_test = pd.read_csv(\"x_test.csv\")\n",
    "y_test = pd.read_csv(\"y_test.csv\", header=None)\n",
    "\n",
    "print(\"x_train shape: \", x_train.shape)\n",
    "print(\"y_train shape: \", y_train.shape)\n",
    "print(\"x_test shape: \", x_test.shape)\n",
    "print(\"y_test shape: \", y_test.shape)"
   ]
  },
  {
   "cell_type": "markdown",
   "metadata": {},
   "source": [
    "# Feature Engineering - Statistics"
   ]
  },
  {
   "cell_type": "code",
   "execution_count": 3,
   "metadata": {},
   "outputs": [],
   "source": [
    "# Add sum, min, max... as features\n",
    "idx = features = x_train.columns.values[:]\n",
    "\n",
    "for df in [x_test, x_train]:\n",
    "    df['sum'] = df[idx].sum(axis=1)\n",
    "    df['min'] = df[idx].min(axis=1)\n",
    "    df['max'] = df[idx].max(axis=1)\n",
    "    df['mean'] = df[idx].mean(axis=1)\n",
    "    df['std'] = df[idx].std(axis=1)\n",
    "    df['skew'] = df[idx].skew(axis=1)\n",
    "    df['kurt'] = df[idx].kurtosis(axis=1)\n",
    "    df['med'] = df[idx].median(axis=1)\n",
    "    df['ma'] =  df[idx].apply(lambda x: np.ma.average(x), axis=1)\n",
    "    df['perc_5'] =  df[idx].apply(lambda x: np.percentile(x, 5), axis=1)\n",
    "    df['perc_10'] =  df[idx].apply(lambda x: np.percentile(x, 10), axis=1)\n",
    "    df['perc_25'] =  df[idx].apply(lambda x: np.percentile(x, 25), axis=1)\n",
    "    df['perc_50'] =  df[idx].apply(lambda x: np.percentile(x, 50), axis=1)\n",
    "    df['perc_75'] =  df[idx].apply(lambda x: np.percentile(x, 75), axis=1)\n",
    "    df['perc_85'] =  df[idx].apply(lambda x: np.percentile(x, 85), axis=1)\n",
    "    df['perc_95'] =  df[idx].apply(lambda x: np.percentile(x, 95), axis=1)\n",
    "    df['perc_99'] =  df[idx].apply(lambda x: np.percentile(x, 99), axis=1)"
   ]
  },
  {
   "cell_type": "code",
   "execution_count": 4,
   "metadata": {},
   "outputs": [
    {
     "name": "stdout",
     "output_type": "stream",
     "text": [
      "x_train.shape (100000, 217)\n",
      "x_test.shape (100000, 217)\n",
      "y_train.shape (100000, 1)\n",
      "y_test.shape (100000, 1)\n",
      "features.len 200\n"
     ]
    }
   ],
   "source": [
    "print('x_train.shape', x_train.shape)\n",
    "print('x_test.shape', x_test.shape)\n",
    "print('y_train.shape', y_train.shape)\n",
    "print('y_test.shape', y_test.shape)\n",
    "print('features.len', len(features))"
   ]
  },
  {
   "cell_type": "code",
   "execution_count": 6,
   "metadata": {},
   "outputs": [],
   "source": [
    "from sklearn.model_selection import train_test_split\n",
    "from sklearn.model_selection import StratifiedShuffleSplit\n",
    "from sklearn.utils import shuffle\n",
    "    \n",
    "def train_test_split(data):\n",
    "    \n",
    "    whole_data = shuffle(data)\n",
    "    sss = StratifiedShuffleSplit(n_splits=1, test_size=0.5, random_state=0)\n",
    "    \n",
    "    for train_index, test_index in sss.split(whole_data, whole_data['target'].values):\n",
    "        print(\"TRAIN:\", train_index, \"TEST:\", test_index)\n",
    "        train, test = whole_data.iloc[train_index], whole_data.iloc[test_index]\n",
    "    \n",
    "    x_train = train.iloc[:,2:]\n",
    "    y_train = train['target']\n",
    "    x_test = test.iloc[:,2:]\n",
    "    y_test = test['target']\n",
    "    features = [column for column in train.columns if column not in ['ID_code', 'target']]\n",
    "    \n",
    "    print(\"x_train shape: \", x_train.shape)\n",
    "    print(\"y_train shape: \", y_train.shape)\n",
    "    print(\"x_test shape: \", x_test.shape)\n",
    "    print(\"y_test shape: \", y_test.shape)\n",
    "    print(\"features\", len(features))\n",
    "    \n",
    "    print(y_train[y_train==0].shape)\n",
    "    print(y_train[y_train==1].shape)\n",
    "    print(\"-----------------------------\")\n",
    "    print(y_test[y_test==0].shape)\n",
    "    print(y_test[y_test==1].shape)\n",
    "    \n",
    "    return x_train, y_train, x_test, y_test"
   ]
  },
  {
   "cell_type": "code",
   "execution_count": 7,
   "metadata": {},
   "outputs": [],
   "source": [
    "import time\n",
    "from sklearn.model_selection import StratifiedKFold\n",
    "import lightgbm as lgb\n",
    "\n",
    "\n",
    "def eda_modle_eva (params, x_train, y_train, x_test):\n",
    "    num_folds = 5\n",
    "    \n",
    "    folds = StratifiedKFold(n_splits=num_folds, shuffle=False, random_state=44000)\n",
    "    oof = np.zeros(len(x_train))\n",
    "    predictions = np.zeros(len(x_test))\n",
    "    feature_importance_df = pd.DataFrame()\n",
    "    \n",
    "    features = [column for column in x_train.columns if column not in ['ID_code', 'target']]\n",
    "    \n",
    "    for fold_, (trn_idx, val_idx) in enumerate(folds.split(x_train.values, y_train.values)):\n",
    "        print(\"Fold {}\".format(fold_))\n",
    "        trn_data = lgb.Dataset(x_train.iloc[trn_idx][features], label=y_train.iloc[trn_idx])\n",
    "        val_data = lgb.Dataset(x_train.iloc[val_idx][features], label=y_train.iloc[val_idx])\n",
    "        \n",
    "        num_round = 1000000\n",
    "        clf = lgb.train(params, trn_data, num_round, valid_sets = [trn_data, val_data], verbose_eval=1000, early_stopping_rounds = 3500)\n",
    "        oof[val_idx] = clf.predict(x_train.iloc[val_idx][features], num_iteration=clf.best_iteration)\n",
    "    \n",
    "        clf.save_model('{:03d}.txt'.format(fold_))\n",
    "\n",
    "        fold_importance_df = pd.DataFrame()\n",
    "        fold_importance_df[\"Feature\"] = features\n",
    "        fold_importance_df[\"importance\"] = clf.feature_importance()\n",
    "        fold_importance_df[\"fold\"] = fold_ + 1\n",
    "        feature_importance_df = pd.concat([feature_importance_df, fold_importance_df], axis=0)\n",
    "    \n",
    "        predictions += clf.predict(x_test[features], num_iteration=clf.best_iteration) / folds.n_splits\n",
    "    \n",
    "    return predictions, oof, fold_importance_df, clf"
   ]
  },
  {
   "cell_type": "code",
   "execution_count": 8,
   "metadata": {},
   "outputs": [
    {
     "name": "stdout",
     "output_type": "stream",
     "text": [
      "Fold 0\n",
      "Training until validation scores don't improve for 3500 rounds.\n",
      "[1000]\ttraining's auc: 0.96117\tvalid_1's auc: 0.869474\n",
      "[2000]\ttraining's auc: 0.987171\tvalid_1's auc: 0.882404\n",
      "[3000]\ttraining's auc: 0.996267\tvalid_1's auc: 0.885565\n",
      "[4000]\ttraining's auc: 0.998927\tvalid_1's auc: 0.885669\n",
      "[5000]\ttraining's auc: 0.999688\tvalid_1's auc: 0.885642\n",
      "[6000]\ttraining's auc: 0.999895\tvalid_1's auc: 0.885239\n",
      "[7000]\ttraining's auc: 0.999959\tvalid_1's auc: 0.884706\n",
      "Early stopping, best iteration is:\n",
      "[3616]\ttraining's auc: 0.998278\tvalid_1's auc: 0.88587\n",
      "Fold 1\n",
      "Training until validation scores don't improve for 3500 rounds.\n",
      "[1000]\ttraining's auc: 0.960572\tvalid_1's auc: 0.876451\n",
      "[2000]\ttraining's auc: 0.986973\tvalid_1's auc: 0.89002\n",
      "[3000]\ttraining's auc: 0.99624\tvalid_1's auc: 0.893014\n",
      "[4000]\ttraining's auc: 0.998923\tvalid_1's auc: 0.893056\n",
      "[5000]\ttraining's auc: 0.999676\tvalid_1's auc: 0.892869\n",
      "[6000]\ttraining's auc: 0.99989\tvalid_1's auc: 0.892503\n",
      "Early stopping, best iteration is:\n",
      "[3285]\ttraining's auc: 0.997373\tvalid_1's auc: 0.893237\n",
      "Fold 2\n",
      "Training until validation scores don't improve for 3500 rounds.\n",
      "[1000]\ttraining's auc: 0.960655\tvalid_1's auc: 0.870445\n",
      "[2000]\ttraining's auc: 0.987136\tvalid_1's auc: 0.884282\n",
      "[3000]\ttraining's auc: 0.996191\tvalid_1's auc: 0.887293\n",
      "[4000]\ttraining's auc: 0.998905\tvalid_1's auc: 0.887621\n",
      "[5000]\ttraining's auc: 0.999692\tvalid_1's auc: 0.88783\n",
      "[6000]\ttraining's auc: 0.999903\tvalid_1's auc: 0.887708\n",
      "[7000]\ttraining's auc: 0.999971\tvalid_1's auc: 0.887245\n",
      "[8000]\ttraining's auc: 0.999996\tvalid_1's auc: 0.886716\n",
      "Early stopping, best iteration is:\n",
      "[5424]\ttraining's auc: 0.999813\tvalid_1's auc: 0.887975\n",
      "Fold 3\n",
      "Training until validation scores don't improve for 3500 rounds.\n",
      "[1000]\ttraining's auc: 0.961566\tvalid_1's auc: 0.864095\n",
      "[2000]\ttraining's auc: 0.987453\tvalid_1's auc: 0.877937\n",
      "[3000]\ttraining's auc: 0.996284\tvalid_1's auc: 0.88096\n",
      "[4000]\ttraining's auc: 0.998971\tvalid_1's auc: 0.881079\n",
      "[5000]\ttraining's auc: 0.999735\tvalid_1's auc: 0.880489\n",
      "[6000]\ttraining's auc: 0.999941\tvalid_1's auc: 0.880195\n",
      "[7000]\ttraining's auc: 0.999991\tvalid_1's auc: 0.879587\n",
      "Early stopping, best iteration is:\n",
      "[3702]\ttraining's auc: 0.998487\tvalid_1's auc: 0.881219\n",
      "Fold 4\n",
      "Training until validation scores don't improve for 3500 rounds.\n",
      "[1000]\ttraining's auc: 0.961462\tvalid_1's auc: 0.867274\n",
      "[2000]\ttraining's auc: 0.987162\tvalid_1's auc: 0.881762\n",
      "[3000]\ttraining's auc: 0.996093\tvalid_1's auc: 0.885538\n",
      "[4000]\ttraining's auc: 0.998862\tvalid_1's auc: 0.885807\n",
      "[5000]\ttraining's auc: 0.999715\tvalid_1's auc: 0.885611\n",
      "[6000]\ttraining's auc: 0.999933\tvalid_1's auc: 0.885114\n",
      "[7000]\ttraining's auc: 0.999988\tvalid_1's auc: 0.885137\n",
      "Early stopping, best iteration is:\n",
      "[4273]\ttraining's auc: 0.999213\tvalid_1's auc: 0.885891\n"
     ]
    }
   ],
   "source": [
    "# ALl default values\n",
    "params = {\n",
    "    # Core Parameters\n",
    "    'objective': 'binary',\n",
    "    'boosting': 'gbdt',\n",
    "    'learning_rate': 0.01,\n",
    "    'num_leaves': 31,\n",
    "    'tree_learner': 'serial',\n",
    "    'num_threads': 0,\n",
    "    'seed': 42,\n",
    "    \n",
    "    # Learning Control Parameters\n",
    "    'max_depth': -1,\n",
    "    'min_data_in_leaf': 20,\n",
    "    'min_sum_hessian_in_leaf': 1e-3,  \n",
    "    'bagging_fraction': 1.0,\n",
    "    'bagging_freq': 0,\n",
    "    'feature_fraction': 1.0,\n",
    "    'lambda_l1': 0.0,\n",
    "    'lambda_l2': 0.0,\n",
    "    'bagging_seed': 42,\n",
    "    \n",
    "    # Others\n",
    "    'verbosity ': 1,\n",
    "    'boost_from_average': True,\n",
    "    'metric': 'auc',\n",
    "}\n",
    "\n",
    "predictions, oof, fold_importance_df, clf = eda_modle_eva(params, x_train, y_train, x_test)"
   ]
  },
  {
   "cell_type": "code",
   "execution_count": 9,
   "metadata": {},
   "outputs": [
    {
     "name": "stdout",
     "output_type": "stream",
     "text": [
      "CV score: 0.88650 \n",
      "CV score: 0.89391 \n"
     ]
    }
   ],
   "source": [
    "from sklearn.metrics import roc_auc_score\n",
    "print(\"CV score: {:<8.5f}\".format(roc_auc_score(y_train, oof)))\n",
    "print(\"CV score: {:<8.5f}\".format(roc_auc_score(y_test, predictions)))"
   ]
  }
 ],
 "metadata": {
  "kernelspec": {
   "display_name": "Python 3",
   "language": "python",
   "name": "python3"
  },
  "language_info": {
   "codemirror_mode": {
    "name": "ipython",
    "version": 3
   },
   "file_extension": ".py",
   "mimetype": "text/x-python",
   "name": "python",
   "nbconvert_exporter": "python",
   "pygments_lexer": "ipython3",
   "version": "3.6.4"
  }
 },
 "nbformat": 4,
 "nbformat_minor": 2
}

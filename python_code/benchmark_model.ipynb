{
 "cells": [
  {
   "cell_type": "code",
   "execution_count": 2,
   "metadata": {},
   "outputs": [
    {
     "name": "stderr",
     "output_type": "stream",
     "text": [
      "C:\\Users\\uc212037\\AppData\\Local\\Continuum\\anaconda3\\lib\\site-packages\\sklearn\\ensemble\\weight_boosting.py:29: DeprecationWarning: numpy.core.umath_tests is an internal NumPy module and should not be imported. It will be removed in a future NumPy release.\n",
      "  from numpy.core.umath_tests import inner1d\n"
     ]
    },
    {
     "name": "stdout",
     "output_type": "stream",
     "text": [
      "importing Jupyter notebook from final_split_train_test.ipynb\n"
     ]
    }
   ],
   "source": [
    "import matplotlib.pyplot as plt\n",
    "import seaborn as sns\n",
    "import gc\n",
    "import warnings\n",
    "warnings.filterwarnings(\"ignore\")\n",
    "from sklearn.metrics import roc_auc_score\n",
    "import lightgbm as lgb\n",
    "import numpy as np\n",
    "import pandas as pd \n",
    "import os\n",
    "import matplotlib.pyplot as plt\n",
    "import seaborn as sns; sns.set()\n",
    "from sklearn.model_selection import StratifiedKFold\n",
    "from scipy.stats import rankdata\n",
    "from sklearn import metrics\n",
    "from bayes_opt import BayesianOptimization\n",
    "import shap\n",
    "import import_ipynb\n",
    "import final_split_train_test\n",
    "from sklearn.model_selection import train_test_split\n",
    "from sklearn.model_selection import StratifiedShuffleSplit\n",
    "from sklearn.utils import shuffle"
   ]
  },
  {
   "cell_type": "code",
   "execution_count": 3,
   "metadata": {},
   "outputs": [],
   "source": [
    "whole_data_original = pd.read_csv(\"train.csv\")"
   ]
  },
  {
   "cell_type": "code",
   "execution_count": 4,
   "metadata": {},
   "outputs": [],
   "source": [
    "whole_data = shuffle(whole_data_original)"
   ]
  },
  {
   "cell_type": "code",
   "execution_count": 5,
   "metadata": {},
   "outputs": [
    {
     "name": "stdout",
     "output_type": "stream",
     "text": [
      "TRAIN: [156309  57663  83950 ...  99220 169289  72481] TEST: [165473  30776  44681 ...  24421  41871   9548]\n",
      "(100000, 202)\n"
     ]
    }
   ],
   "source": [
    "sss = StratifiedShuffleSplit(n_splits=1, test_size=0.5, random_state=0)\n",
    "\n",
    "for train_index, test_index in sss.split(whole_data, whole_data['target'].values):\n",
    "    print(\"TRAIN:\", train_index, \"TEST:\", test_index)\n",
    "    train, test = whole_data.iloc[train_index], whole_data.iloc[test_index]\n",
    "    print(train.shape)    "
   ]
  },
  {
   "cell_type": "code",
   "execution_count": 6,
   "metadata": {},
   "outputs": [
    {
     "name": "stdout",
     "output_type": "stream",
     "text": [
      "x_train shape:  (100000, 200)\n",
      "y_train shape:  (100000,)\n",
      "x_test shape:  (100000, 200)\n",
      "features 200\n"
     ]
    }
   ],
   "source": [
    "x_train = train.iloc[:,2:]\n",
    "y_train = train['target']\n",
    "x_test = test.iloc[:,2:]\n",
    "y_test = test['target']\n",
    "features = [column for column in train.columns if column not in ['ID_code', 'target']]\n",
    "\n",
    "print(\"x_train shape: \", x_train.shape)\n",
    "print(\"y_train shape: \", y_train.shape)\n",
    "print(\"x_test shape: \", x_test.shape)\n",
    "print(\"features\", len(features))"
   ]
  },
  {
   "cell_type": "code",
   "execution_count": 7,
   "metadata": {},
   "outputs": [
    {
     "name": "stdout",
     "output_type": "stream",
     "text": [
      "(89951,)\n",
      "(10049,)\n",
      "-----------------------------\n",
      "(89951,)\n",
      "(10049,)\n"
     ]
    }
   ],
   "source": [
    "# Makding sure the target classes are equally splitted into two set. \n",
    "# Each set contains the same amount of target 0  and target 1 classes.\n",
    "print(y_train[y_train==0].shape)\n",
    "print(y_train[y_train==1].shape)\n",
    "print(\"-----------------------------\")\n",
    "print(y_test[y_test==0].shape)\n",
    "print(y_test[y_test==1].shape)"
   ]
  },
  {
   "cell_type": "markdown",
   "metadata": {},
   "source": [
    "# Set up the parameter with default values for benchmark model: "
   ]
  },
  {
   "cell_type": "code",
   "execution_count": 11,
   "metadata": {},
   "outputs": [],
   "source": [
    "# Set the parameter with default values for benchmark model\n",
    "params = {\n",
    "    # Core Parameters\n",
    "    'objective': 'binary',\n",
    "    'boosting': 'gbdt',\n",
    "    'learning_rate': 0.01,\n",
    "    'num_leaves': 31,\n",
    "    'tree_learner': 'serial',\n",
    "    'num_threads': 0,\n",
    "    'seed': 42,\n",
    "    \n",
    "    # Learning Control Parameters\n",
    "    'max_depth': -1,\n",
    "    'min_data_in_leaf': 20,\n",
    "    'min_sum_hessian_in_leaf': 1e-3,  \n",
    "    'bagging_fraction': 1.0,\n",
    "    'bagging_freq': 0,\n",
    "    'feature_fraction': 1.0,\n",
    "    'lambda_l1': 0.0,\n",
    "    'lambda_l2': 0.0,\n",
    "    'bagging_seed': 42,\n",
    "    \n",
    "    # Others\n",
    "    'verbosity ': 1,\n",
    "    'boost_from_average': True,\n",
    "    'metric': 'auc',\n",
    "}"
   ]
  },
  {
   "cell_type": "markdown",
   "metadata": {},
   "source": [
    "# Train the model with 5-fold cross validation:"
   ]
  },
  {
   "cell_type": "code",
   "execution_count": 12,
   "metadata": {},
   "outputs": [
    {
     "name": "stdout",
     "output_type": "stream",
     "text": [
      "Fold 0\n",
      "Training until validation scores don't improve for 3500 rounds.\n",
      "[1000]\ttraining's auc: 0.960336\tvalid_1's auc: 0.869258\n",
      "[2000]\ttraining's auc: 0.986665\tvalid_1's auc: 0.884802\n",
      "[3000]\ttraining's auc: 0.996148\tvalid_1's auc: 0.888566\n",
      "[4000]\ttraining's auc: 0.998917\tvalid_1's auc: 0.889271\n",
      "[5000]\ttraining's auc: 0.999715\tvalid_1's auc: 0.889348\n",
      "[6000]\ttraining's auc: 0.999937\tvalid_1's auc: 0.889144\n",
      "[7000]\ttraining's auc: 0.999988\tvalid_1's auc: 0.888832\n",
      "[8000]\ttraining's auc: 1\tvalid_1's auc: 0.888541\n",
      "Early stopping, best iteration is:\n",
      "[4879]\ttraining's auc: 0.999663\tvalid_1's auc: 0.889385\n",
      "Fold 1\n",
      "Training until validation scores don't improve for 3500 rounds.\n",
      "[1000]\ttraining's auc: 0.96181\tvalid_1's auc: 0.875515\n",
      "[2000]\ttraining's auc: 0.986819\tvalid_1's auc: 0.887781\n",
      "[3000]\ttraining's auc: 0.996088\tvalid_1's auc: 0.890825\n",
      "[4000]\ttraining's auc: 0.999013\tvalid_1's auc: 0.891098\n",
      "[5000]\ttraining's auc: 0.999773\tvalid_1's auc: 0.89066\n",
      "[6000]\ttraining's auc: 0.999958\tvalid_1's auc: 0.889759\n",
      "[7000]\ttraining's auc: 0.999995\tvalid_1's auc: 0.889189\n",
      "Early stopping, best iteration is:\n",
      "[3531]\ttraining's auc: 0.998072\tvalid_1's auc: 0.891163\n",
      "Fold 2\n",
      "Training until validation scores don't improve for 3500 rounds.\n",
      "[1000]\ttraining's auc: 0.961156\tvalid_1's auc: 0.874697\n",
      "[2000]\ttraining's auc: 0.987079\tvalid_1's auc: 0.887276\n",
      "[3000]\ttraining's auc: 0.996272\tvalid_1's auc: 0.890908\n",
      "[4000]\ttraining's auc: 0.999068\tvalid_1's auc: 0.89145\n",
      "[5000]\ttraining's auc: 0.99978\tvalid_1's auc: 0.891691\n",
      "[6000]\ttraining's auc: 0.999952\tvalid_1's auc: 0.891707\n",
      "[7000]\ttraining's auc: 0.999994\tvalid_1's auc: 0.891525\n",
      "[8000]\ttraining's auc: 1\tvalid_1's auc: 0.891299\n",
      "[9000]\ttraining's auc: 1\tvalid_1's auc: 0.890919\n",
      "Early stopping, best iteration is:\n",
      "[6194]\ttraining's auc: 0.999966\tvalid_1's auc: 0.891777\n",
      "Fold 3\n",
      "Training until validation scores don't improve for 3500 rounds.\n",
      "[1000]\ttraining's auc: 0.961324\tvalid_1's auc: 0.867934\n",
      "[2000]\ttraining's auc: 0.987055\tvalid_1's auc: 0.881952\n",
      "[3000]\ttraining's auc: 0.996167\tvalid_1's auc: 0.885052\n",
      "[4000]\ttraining's auc: 0.998958\tvalid_1's auc: 0.885063\n",
      "[5000]\ttraining's auc: 0.99974\tvalid_1's auc: 0.884767\n",
      "[6000]\ttraining's auc: 0.999927\tvalid_1's auc: 0.884826\n",
      "[7000]\ttraining's auc: 0.999983\tvalid_1's auc: 0.884515\n",
      "Early stopping, best iteration is:\n",
      "[4075]\ttraining's auc: 0.999062\tvalid_1's auc: 0.885105\n",
      "Fold 4\n",
      "Training until validation scores don't improve for 3500 rounds.\n",
      "[1000]\ttraining's auc: 0.962356\tvalid_1's auc: 0.870053\n",
      "[2000]\ttraining's auc: 0.987618\tvalid_1's auc: 0.883436\n",
      "[3000]\ttraining's auc: 0.996553\tvalid_1's auc: 0.88639\n",
      "[4000]\ttraining's auc: 0.999138\tvalid_1's auc: 0.886695\n",
      "[5000]\ttraining's auc: 0.999812\tvalid_1's auc: 0.886438\n",
      "[6000]\ttraining's auc: 0.999967\tvalid_1's auc: 0.886167\n",
      "[7000]\ttraining's auc: 0.999996\tvalid_1's auc: 0.885725\n",
      "Early stopping, best iteration is:\n",
      "[4109]\ttraining's auc: 0.999266\tvalid_1's auc: 0.886809\n"
     ]
    }
   ],
   "source": [
    "import time\n",
    "from sklearn.model_selection import StratifiedKFold\n",
    "import lightgbm as lgb\n",
    "\n",
    "num_folds = 5\n",
    "\n",
    "folds = StratifiedKFold(n_splits=num_folds, shuffle=False, random_state=44000)\n",
    "oof = np.zeros(len(x_train))\n",
    "predictions = np.zeros(len(x_test))\n",
    "feature_importance_df = pd.DataFrame()\n",
    "\n",
    "for fold_, (trn_idx, val_idx) in enumerate(folds.split(x_train.values, y_train.values)):\n",
    "    print(\"Fold {}\".format(fold_))\n",
    "    trn_data = lgb.Dataset(x_train.iloc[trn_idx][features], label=y_train.iloc[trn_idx])\n",
    "    val_data = lgb.Dataset(x_train.iloc[val_idx][features], label=y_train.iloc[val_idx])\n",
    "\n",
    "    num_round = 1000000\n",
    "    clf = lgb.train(params, trn_data, num_round, valid_sets = [trn_data, val_data], verbose_eval=1000, early_stopping_rounds = 3500)\n",
    "    oof[val_idx] = clf.predict(x_train.iloc[val_idx][features], num_iteration=clf.best_iteration)\n",
    "    \n",
    "    clf.save_model('{:03d}.txt'.format(fold_))\n",
    "\n",
    "    fold_importance_df = pd.DataFrame()\n",
    "    fold_importance_df[\"Feature\"] = features\n",
    "    fold_importance_df[\"importance\"] = clf.feature_importance()\n",
    "    fold_importance_df[\"fold\"] = fold_ + 1\n",
    "    feature_importance_df = pd.concat([feature_importance_df, fold_importance_df], axis=0)\n",
    "    \n",
    "    predictions += clf.predict(x_test[features], num_iteration=clf.best_iteration) / folds.n_splits\n",
    "\n"
   ]
  },
  {
   "cell_type": "code",
   "execution_count": 13,
   "metadata": {},
   "outputs": [
    {
     "name": "stdout",
     "output_type": "stream",
     "text": [
      "CV score: 0.88843 \n"
     ]
    }
   ],
   "source": [
    "from sklearn.metrics import roc_auc_score\n",
    "print(\"CV score: {:<8.5f}\".format(roc_auc_score(y_train, oof)))"
   ]
  },
  {
   "cell_type": "code",
   "execution_count": 14,
   "metadata": {},
   "outputs": [
    {
     "name": "stdout",
     "output_type": "stream",
     "text": [
      "CV score: 0.89388 \n"
     ]
    }
   ],
   "source": [
    "print(\"CV score: {:<8.5f}\".format(roc_auc_score(y_test, predictions)))"
   ]
  },
  {
   "cell_type": "code",
   "execution_count": 15,
   "metadata": {},
   "outputs": [],
   "source": [
    "np.savetxt('benchmark_result.txt', predictions)"
   ]
  },
  {
   "cell_type": "code",
   "execution_count": 113,
   "metadata": {},
   "outputs": [
    {
     "data": {
      "image/png": "[encoded data removed]",
      "text/plain": [
       "<matplotlib.figure.Figure at 0x203fada0>"
      ]
     },
     "metadata": {},
     "output_type": "display_data"
    }
   ],
   "source": [
    "import os\n",
    "os.environ[\"PATH\"] += os.pathsep + 'C:/Users/uc212037/Downloads/graphviz-2.38/release/bin'\n",
    "\n",
    "## plot importance \n",
    "ax = lgb.plot_importance(clf, max_num_features=10)\n",
    "plt.show()"
   ]
  },
  {
   "cell_type": "code",
   "execution_count": 114,
   "metadata": {},
   "outputs": [
    {
     "data": {
      "text/plain": [
       "'Digraph.gv.pdf'"
      ]
     },
     "execution_count": 114,
     "metadata": {},
     "output_type": "execute_result"
    }
   ],
   "source": [
    "# Create tree\n",
    "graph = lgb.create_tree_digraph(clf, tree_index=2, show_info=['split_gain'])\n",
    "graph.render(view=True)"
   ]
  },
  {
   "cell_type": "code",
   "execution_count": 115,
   "metadata": {},
   "outputs": [
    {
     "data": {
      "image/png": "[encoded data removed]",
      "text/plain": [
       "<matplotlib.figure.Figure at 0x2023ab70>"
      ]
     },
     "metadata": {},
     "output_type": "display_data"
    }
   ],
   "source": [
    "from sklearn import metrics\n",
    "fpr, tpr, threshold = metrics.roc_curve(y_test, predictions)\n",
    "roc_auc = metrics.auc(fpr, tpr)\n",
    "\n",
    "plt.figure(figsize=(6,6))\n",
    "plt.title('Validation ROC')\n",
    "plt.plot(fpr, tpr, 'b', label = 'Val AUC = %0.3f' % roc_auc)\n",
    "plt.legend(loc = 'lower right')\n",
    "plt.plot([0, 1], [0, 1],'r--')\n",
    "plt.xlim([0, 1])\n",
    "plt.ylim([0, 1])\n",
    "plt.ylabel('True Positive Rate')\n",
    "plt.xlabel('False Positive Rate')\n",
    "plt.show()"
   ]
  },
  {
   "cell_type": "code",
   "execution_count": 103,
   "metadata": {},
   "outputs": [
    {
     "data": {
      "image/png": "[encoded data removed]",
      "text/plain": [
       "<matplotlib.figure.Figure at 0x18d8c7b8>"
      ]
     },
     "metadata": {},
     "output_type": "display_data"
    },
    {
     "name": "stdout",
     "output_type": "stream",
     "text": [
      "auc:  0.5927732991987414\n",
      "ap 0.5927969085517574\n"
     ]
    }
   ],
   "source": [
    "# calculate precision-recall curve\n",
    "from sklearn.metrics import precision_recall_curve\n",
    "precision, recall, thresholds = precision_recall_curve(y_test, predictions)\n",
    "\n",
    "from sklearn.metrics import auc\n",
    "from sklearn.metrics import average_precision_score\n",
    "from matplotlib import pyplot\n",
    "\n",
    "auc = auc(recall, precision)\n",
    "ap = average_precision_score(y_test, predictions)\n",
    "\n",
    "# plot no skill\n",
    "pyplot.plot([0, 1], [0.5, 0.5], linestyle='--')\n",
    "# plot the precision-recall curve for the model\n",
    "pyplot.plot(recall, precision, marker='.')\n",
    "# show the plot\n",
    "pyplot.show()\n",
    "\n",
    "print('auc: ', auc)\n",
    "print('ap', ap)"
   ]
  },
  {
   "cell_type": "code",
   "execution_count": 105,
   "metadata": {},
   "outputs": [
    {
     "name": "stdout",
     "output_type": "stream",
     "text": [
      "Average precision-recall score RF: 0.5927969085517574\n"
     ]
    },
    {
     "data": {
      "text/plain": [
       "Text(0.5,1,'2-class Precision-Recall curve: AP=0.59')"
      ]
     },
     "execution_count": 105,
     "metadata": {},
     "output_type": "execute_result"
    },
    {
     "data": {
      "image/png": "[encoded data removed]",
      "text/plain": [
       "<matplotlib.figure.Figure at 0x201cb358>"
      ]
     },
     "metadata": {},
     "output_type": "display_data"
    }
   ],
   "source": [
    "from sklearn.metrics import average_precision_score, auc, roc_curve, precision_recall_curve\n",
    "average_precision = average_precision_score(y_test, predictions)\n",
    "\n",
    "print('Average precision-recall score RF: {}'.format(average_precision))\n",
    "\n",
    "from sklearn.metrics import precision_recall_curve\n",
    "import matplotlib.pyplot as plt\n",
    "\n",
    "precision, recall, _ = precision_recall_curve(y_test, predictions)\n",
    "\n",
    "plt.step(recall, precision, color='b', alpha=0.2,\n",
    "         where='post')\n",
    "plt.fill_between(recall, precision, step='post', alpha=0.2,\n",
    "                 color='b')\n",
    "\n",
    "plt.xlabel('Recall')\n",
    "plt.ylabel('Precision')\n",
    "plt.ylim([0.0, 1.05])\n",
    "plt.xlim([0.0, 1.0])\n",
    "plt.title('2-class Precision-Recall curve: AP={0:0.2f}'.format(\n",
    "          average_precision))"
   ]
  },
  {
   "cell_type": "code",
   "execution_count": 7,
   "metadata": {},
   "outputs": [],
   "source": [
    "x_train.to_csv('x_train.csv', index=False)\n",
    "y_train.to_csv('y_train.csv', index=False)\n",
    "x_test.to_csv('x_test.csv', index=False)\n",
    "y_test.to_csv('y_test.csv', index=False)\n",
    "whole_data.to_csv('whole_data.csv', index=False)"
   ]
  }
 ],
 "metadata": {
  "kernelspec": {
   "display_name": "Python 3",
   "language": "python",
   "name": "python3"
  },
  "language_info": {
   "codemirror_mode": {
    "name": "ipython",
    "version": 3
   },
   "file_extension": ".py",
   "mimetype": "text/x-python",
   "name": "python",
   "nbconvert_exporter": "python",
   "pygments_lexer": "ipython3",
   "version": "3.6.4"
  }
 },
 "nbformat": 4,
 "nbformat_minor": 2
}

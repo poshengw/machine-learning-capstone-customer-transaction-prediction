{
 "cells": [
  {
   "cell_type": "code",
   "execution_count": 2,
   "metadata": {},
   "outputs": [],
   "source": [
    "import numpy as np\n",
    "import pandas as pd \n",
    "import os\n",
    "import matplotlib.pyplot as plt\n",
    "import seaborn as sns; sns.set()"
   ]
  },
  {
   "cell_type": "code",
   "execution_count": 3,
   "metadata": {},
   "outputs": [],
   "source": [
    "data = pd.read_csv(\"whole_data.csv\")"
   ]
  },
  {
   "cell_type": "code",
   "execution_count": 4,
   "metadata": {},
   "outputs": [],
   "source": [
    "x_train = pd.read_csv(\"x_train.csv\")\n",
    "y_train = pd.read_csv(\"y_train.csv\", header=None)\n",
    "x_test = pd.read_csv(\"x_test.csv\")\n",
    "y_test = pd.read_csv(\"y_test.csv\", header=None)"
   ]
  },
  {
   "cell_type": "code",
   "execution_count": 5,
   "metadata": {},
   "outputs": [
    {
     "name": "stdout",
     "output_type": "stream",
     "text": [
      "x_train shape:  (100000, 200)\n",
      "y_train shape:  (100000, 1)\n",
      "x_test shape:  (100000, 200)\n",
      "y_test shape:  (100000, 1)\n"
     ]
    }
   ],
   "source": [
    "print(\"x_train shape: \", x_train.shape)\n",
    "print(\"y_train shape: \", y_train.shape)\n",
    "print(\"x_test shape: \", x_test.shape)\n",
    "print(\"y_test shape: \", y_test.shape)"
   ]
  },
  {
   "cell_type": "markdown",
   "metadata": {},
   "source": [
    "# Feature Engineering - Frequency Encoding: "
   ]
  },
  {
   "cell_type": "code",
   "execution_count": 6,
   "metadata": {},
   "outputs": [],
   "source": [
    "# Frequency encoding:\n",
    "def encode_FE(df, col, test):\n",
    "    cv = df[col].value_counts()\n",
    "    nm = col+'_FE'\n",
    "    df[nm] = df[col].map(cv)\n",
    "    test[nm] = test[col].map(cv)\n",
    "    test[nm].fillna(0, inplace=True)\n",
    "    \n",
    "    if cv.max() <= 255:\n",
    "        df[nm] = df[nm].astype('uint8')\n",
    "        test[nm] = test[nm].astype('uint8')\n",
    "    else:\n",
    "        df[nm] = df[nm].astype('uint16')\n",
    "        test[nm] = test[nm].astype('uint16')        \n",
    "    return"
   ]
  },
  {
   "cell_type": "code",
   "execution_count": 7,
   "metadata": {},
   "outputs": [
    {
     "name": "stdout",
     "output_type": "stream",
     "text": [
      "Added 200 new magic features!\n"
     ]
    }
   ],
   "source": [
    "comb = pd.concat([x_train, x_test], axis=0, sort=True)\n",
    "\n",
    "for i in range(200): encode_FE(comb, 'var_' + str(i), x_test)\n",
    "\n",
    "x_train = comb[:len(x_train)]; \n",
    "del comb\n",
    "print('Added 200 new magic features!')"
   ]
  },
  {
   "cell_type": "code",
   "execution_count": 8,
   "metadata": {},
   "outputs": [],
   "source": [
    "features = [column for column in x_train.columns if column not in ['ID_code', 'target']]"
   ]
  },
  {
   "cell_type": "code",
   "execution_count": 13,
   "metadata": {},
   "outputs": [
    {
     "name": "stdout",
     "output_type": "stream",
     "text": [
      "x_train shape:  (100000, 400)\n",
      "y_train shape:  (100000, 1)\n",
      "x_test shape:  (100000, 400)\n",
      "x_test shape:  (100000, 1)\n",
      "features 400\n"
     ]
    }
   ],
   "source": [
    "print(\"x_train shape: \", x_train.shape)\n",
    "print(\"y_train shape: \", y_train.shape)\n",
    "print(\"x_test shape: \", x_test.shape)\n",
    "print(\"x_test shape: \", y_test.shape)\n",
    "print(\"features\", len(features))"
   ]
  },
  {
   "cell_type": "code",
   "execution_count": 16,
   "metadata": {},
   "outputs": [],
   "source": [
    "# save frequency count result:\n",
    "x_train.to_csv('x_train_FE.csv', index=False)\n",
    "y_train.to_csv('y_train_FE.csv', index=False)\n",
    "x_test.to_csv('x_test_FE.csv', index=False)\n",
    "y_test.to_csv('y_test_FE.csv', index=False)"
   ]
  },
  {
   "cell_type": "code",
   "execution_count": 77,
   "metadata": {},
   "outputs": [],
   "source": [
    "from sklearn.model_selection import train_test_split\n",
    "from sklearn.model_selection import StratifiedShuffleSplit\n",
    "from sklearn.utils import shuffle\n",
    "    \n",
    "def train_test_split(data):\n",
    "    \n",
    "    whole_data = shuffle(data)\n",
    "    sss = StratifiedShuffleSplit(n_splits=1, test_size=0.5, random_state=0)\n",
    "    \n",
    "    for train_index, test_index in sss.split(whole_data, whole_data['target'].values):\n",
    "        print(\"TRAIN:\", train_index, \"TEST:\", test_index)\n",
    "        train, test = whole_data.iloc[train_index], whole_data.iloc[test_index]\n",
    "    \n",
    "    x_train = train.iloc[:,2:]\n",
    "    y_train = train['target']\n",
    "    x_test = test.iloc[:,2:]\n",
    "    y_test = test['target']\n",
    "    features = [column for column in train.columns if column not in ['ID_code', 'target']]\n",
    "    \n",
    "    print(\"x_train shape: \", x_train.shape)\n",
    "    print(\"y_train shape: \", y_train.shape)\n",
    "    print(\"x_test shape: \", x_test.shape)\n",
    "    print(\"y_test shape: \", y_test.shape)\n",
    "    print(\"features\", len(features))\n",
    "    \n",
    "    print(y_train[y_train==0].shape)\n",
    "    print(y_train[y_train==1].shape)\n",
    "    print(\"-----------------------------\")\n",
    "    print(y_test[y_test==0].shape)\n",
    "    print(y_test[y_test==1].shape)\n",
    "    \n",
    "    return x_train, y_train, x_test, y_test"
   ]
  },
  {
   "cell_type": "code",
   "execution_count": 78,
   "metadata": {},
   "outputs": [],
   "source": [
    "import time\n",
    "from sklearn.model_selection import StratifiedKFold\n",
    "import lightgbm as lgb\n",
    "\n",
    "\n",
    "def eda_modle_eva (params, x_train, y_train, x_test):\n",
    "    num_folds = 5\n",
    "    \n",
    "    folds = StratifiedKFold(n_splits=num_folds, shuffle=False, random_state=44000)\n",
    "    oof = np.zeros(len(x_train))\n",
    "    predictions = np.zeros(len(x_test))\n",
    "    feature_importance_df = pd.DataFrame()\n",
    "    \n",
    "    features = [column for column in x_train.columns if column not in ['ID_code', 'target']]\n",
    "    \n",
    "    for fold_, (trn_idx, val_idx) in enumerate(folds.split(x_train.values, y_train.values)):\n",
    "        print(\"Fold {}\".format(fold_))\n",
    "        trn_data = lgb.Dataset(x_train.iloc[trn_idx][features], label=y_train.iloc[trn_idx])\n",
    "        val_data = lgb.Dataset(x_train.iloc[val_idx][features], label=y_train.iloc[val_idx])\n",
    "        \n",
    "        num_round = 1000000\n",
    "        clf = lgb.train(params, trn_data, num_round, valid_sets = [trn_data, val_data], verbose_eval=1000, early_stopping_rounds = 3500)\n",
    "        oof[val_idx] = clf.predict(x_train.iloc[val_idx][features], num_iteration=clf.best_iteration)\n",
    "    \n",
    "        clf.save_model('{:03d}.txt'.format(fold_))\n",
    "\n",
    "        fold_importance_df = pd.DataFrame()\n",
    "        fold_importance_df[\"Feature\"] = features\n",
    "        fold_importance_df[\"importance\"] = clf.feature_importance()\n",
    "        fold_importance_df[\"fold\"] = fold_ + 1\n",
    "        feature_importance_df = pd.concat([feature_importance_df, fold_importance_df], axis=0)\n",
    "    \n",
    "        predictions += clf.predict(x_test[features], num_iteration=clf.best_iteration) / folds.n_splits\n",
    "    \n",
    "    return predictions, oof, fold_importance_df, clf"
   ]
  },
  {
   "cell_type": "code",
   "execution_count": 79,
   "metadata": {},
   "outputs": [
    {
     "name": "stdout",
     "output_type": "stream",
     "text": [
      "Fold 0\n",
      "Training until validation scores don't improve for 3500 rounds.\n",
      "[1000]\ttraining's auc: 0.961929\tvalid_1's auc: 0.871397\n",
      "[2000]\ttraining's auc: 0.987633\tvalid_1's auc: 0.885187\n",
      "[3000]\ttraining's auc: 0.996429\tvalid_1's auc: 0.888325\n",
      "[4000]\ttraining's auc: 0.999029\tvalid_1's auc: 0.889291\n",
      "[5000]\ttraining's auc: 0.999713\tvalid_1's auc: 0.88958\n",
      "[6000]\ttraining's auc: 0.999903\tvalid_1's auc: 0.889641\n",
      "[7000]\ttraining's auc: 0.999964\tvalid_1's auc: 0.889864\n",
      "[8000]\ttraining's auc: 0.999994\tvalid_1's auc: 0.889898\n",
      "[9000]\ttraining's auc: 1\tvalid_1's auc: 0.889916\n",
      "[10000]\ttraining's auc: 1\tvalid_1's auc: 0.889983\n",
      "[11000]\ttraining's auc: 1\tvalid_1's auc: 0.890027\n",
      "[12000]\ttraining's auc: 1\tvalid_1's auc: 0.88981\n",
      "Early stopping, best iteration is:\n",
      "[9204]\ttraining's auc: 1\tvalid_1's auc: 0.889901\n",
      "Fold 1\n",
      "Training until validation scores don't improve for 3500 rounds.\n",
      "[1000]\ttraining's auc: 0.961292\tvalid_1's auc: 0.880254\n",
      "[2000]\ttraining's auc: 0.987573\tvalid_1's auc: 0.894023\n",
      "[3000]\ttraining's auc: 0.996548\tvalid_1's auc: 0.8974\n",
      "[4000]\ttraining's auc: 0.999105\tvalid_1's auc: 0.898042\n",
      "[5000]\ttraining's auc: 0.999759\tvalid_1's auc: 0.897937\n",
      "[6000]\ttraining's auc: 0.999931\tvalid_1's auc: 0.897885\n",
      "[7000]\ttraining's auc: 0.999981\tvalid_1's auc: 0.897668\n",
      "Early stopping, best iteration is:\n",
      "[3988]\ttraining's auc: 0.999093\tvalid_1's auc: 0.89808\n",
      "Fold 2\n",
      "Training until validation scores don't improve for 3500 rounds.\n",
      "[1000]\ttraining's auc: 0.961322\tvalid_1's auc: 0.87474\n",
      "[2000]\ttraining's auc: 0.987744\tvalid_1's auc: 0.888604\n",
      "[3000]\ttraining's auc: 0.996591\tvalid_1's auc: 0.892878\n",
      "[4000]\ttraining's auc: 0.999157\tvalid_1's auc: 0.893749\n",
      "[5000]\ttraining's auc: 0.999766\tvalid_1's auc: 0.894047\n",
      "[6000]\ttraining's auc: 0.999928\tvalid_1's auc: 0.894132\n",
      "[7000]\ttraining's auc: 0.999983\tvalid_1's auc: 0.894145\n",
      "[8000]\ttraining's auc: 0.999999\tvalid_1's auc: 0.89414\n",
      "[9000]\ttraining's auc: 1\tvalid_1's auc: 0.893953\n",
      "Early stopping, best iteration is:\n",
      "[5830]\ttraining's auc: 0.999912\tvalid_1's auc: 0.894283\n",
      "Fold 3\n",
      "Training until validation scores don't improve for 3500 rounds.\n",
      "[1000]\ttraining's auc: 0.962244\tvalid_1's auc: 0.867148\n",
      "[2000]\ttraining's auc: 0.988053\tvalid_1's auc: 0.881005\n",
      "[3000]\ttraining's auc: 0.996707\tvalid_1's auc: 0.884627\n",
      "[4000]\ttraining's auc: 0.99917\tvalid_1's auc: 0.885307\n",
      "[5000]\ttraining's auc: 0.999795\tvalid_1's auc: 0.885609\n",
      "[6000]\ttraining's auc: 0.999948\tvalid_1's auc: 0.885897\n",
      "[7000]\ttraining's auc: 0.999977\tvalid_1's auc: 0.886053\n",
      "[8000]\ttraining's auc: 0.999998\tvalid_1's auc: 0.886129\n",
      "[9000]\ttraining's auc: 1\tvalid_1's auc: 0.885807\n",
      "[10000]\ttraining's auc: 1\tvalid_1's auc: 0.885539\n",
      "[11000]\ttraining's auc: 1\tvalid_1's auc: 0.885364\n",
      "Early stopping, best iteration is:\n",
      "[7950]\ttraining's auc: 0.999998\tvalid_1's auc: 0.886179\n",
      "Fold 4\n",
      "Training until validation scores don't improve for 3500 rounds.\n",
      "[1000]\ttraining's auc: 0.96187\tvalid_1's auc: 0.870043\n",
      "[2000]\ttraining's auc: 0.987906\tvalid_1's auc: 0.884857\n",
      "[3000]\ttraining's auc: 0.996612\tvalid_1's auc: 0.88938\n",
      "[4000]\ttraining's auc: 0.99911\tvalid_1's auc: 0.890813\n",
      "[5000]\ttraining's auc: 0.999754\tvalid_1's auc: 0.891067\n",
      "[6000]\ttraining's auc: 0.99994\tvalid_1's auc: 0.891256\n",
      "[7000]\ttraining's auc: 0.999989\tvalid_1's auc: 0.891211\n",
      "[8000]\ttraining's auc: 1\tvalid_1's auc: 0.891186\n",
      "[9000]\ttraining's auc: 1\tvalid_1's auc: 0.891179\n",
      "[10000]\ttraining's auc: 1\tvalid_1's auc: 0.891303\n",
      "[11000]\ttraining's auc: 1\tvalid_1's auc: 0.891289\n",
      "[12000]\ttraining's auc: 1\tvalid_1's auc: 0.89108\n",
      "Early stopping, best iteration is:\n",
      "[8899]\ttraining's auc: 1\tvalid_1's auc: 0.891195\n"
     ]
    }
   ],
   "source": [
    "# ALl default values\n",
    "params = {\n",
    "    # Core Parameters\n",
    "    'objective': 'binary',\n",
    "    'boosting': 'gbdt',\n",
    "    'learning_rate': 0.01,\n",
    "    'num_leaves': 31,\n",
    "    'tree_learner': 'serial',\n",
    "    'num_threads': 0,\n",
    "    'seed': 42,\n",
    "    \n",
    "    # Learning Control Parameters\n",
    "    'max_depth': -1,\n",
    "    'min_data_in_leaf': 20,\n",
    "    'min_sum_hessian_in_leaf': 1e-3,  \n",
    "    'bagging_fraction': 1.0,\n",
    "    'bagging_freq': 0,\n",
    "    'feature_fraction': 1.0,\n",
    "    'lambda_l1': 0.0,\n",
    "    'lambda_l2': 0.0,\n",
    "    'bagging_seed': 42,\n",
    "    \n",
    "    # Others\n",
    "    'verbosity ': 1,\n",
    "    'boost_from_average': True,\n",
    "    'metric': 'auc',\n",
    "}\n",
    "\n",
    "\n",
    "#print(\"data shape: \", data_without_outliers.shape)\n",
    "#x_train, y_train, x_test, y_test = train_test_split(data_without_outliers)\n",
    "predictions, oof, fold_importance_df, clf = eda_modle_eva(params, x_train, y_train, x_test)\n"
   ]
  },
  {
   "cell_type": "code",
   "execution_count": 80,
   "metadata": {},
   "outputs": [
    {
     "name": "stdout",
     "output_type": "stream",
     "text": [
      "CV score: 0.88860 \n",
      "CV score: 0.90010 \n"
     ]
    }
   ],
   "source": [
    "from sklearn.metrics import roc_auc_score\n",
    "print(\"CV score: {:<8.5f}\".format(roc_auc_score(y_train, oof)))\n",
    "print(\"CV score: {:<8.5f}\".format(roc_auc_score(y_test, predictions)))"
   ]
  }
 ],
 "metadata": {
  "kernelspec": {
   "display_name": "Python 3",
   "language": "python",
   "name": "python3"
  },
  "language_info": {
   "codemirror_mode": {
    "name": "ipython",
    "version": 3
   },
   "file_extension": ".py",
   "mimetype": "text/x-python",
   "name": "python",
   "nbconvert_exporter": "python",
   "pygments_lexer": "ipython3",
   "version": "3.6.4"
  }
 },
 "nbformat": 4,
 "nbformat_minor": 2
}
